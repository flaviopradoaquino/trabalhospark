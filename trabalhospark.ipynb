{
  "nbformat": 4,
  "nbformat_minor": 0,
  "metadata": {
    "colab": {
      "provenance": [],
      "authorship_tag": "ABX9TyPI8+nUU3PmbatwJOKxavUv",
      "include_colab_link": true
    },
    "kernelspec": {
      "name": "python3",
      "display_name": "Python 3"
    },
    "language_info": {
      "name": "python"
    }
  },
  "cells": [
    {
      "cell_type": "markdown",
      "metadata": {
        "id": "view-in-github",
        "colab_type": "text"
      },
      "source": [
        "<a href=\"https://colab.research.google.com/github/flaviopradoaquino/trabalhospark/blob/main/trabalhospark.ipynb\" target=\"_parent\"><img src=\"https://colab.research.google.com/assets/colab-badge.svg\" alt=\"Open In Colab\"/></a>"
      ]
    },
    {
      "cell_type": "markdown",
      "source": [
        "## **Instalação de Pacotes**"
      ],
      "metadata": {
        "id": "qo6xX-hVc8iV"
      }
    },
    {
      "cell_type": "code",
      "execution_count": 1,
      "metadata": {
        "colab": {
          "base_uri": "https://localhost:8080/"
        },
        "id": "LzYhk6C4L12E",
        "outputId": "1fffb1fc-0620-4fd8-a6ef-9ceeef23f493"
      },
      "outputs": [
        {
          "output_type": "stream",
          "name": "stdout",
          "text": [
            "Collecting pyspark\n",
            "  Downloading pyspark-3.5.0.tar.gz (316.9 MB)\n",
            "\u001b[2K     \u001b[90m━━━━━━━━━━━━━━━━━━━━━━━━━━━━━━━━━━━━━━━\u001b[0m \u001b[32m316.9/316.9 MB\u001b[0m \u001b[31m2.8 MB/s\u001b[0m eta \u001b[36m0:00:00\u001b[0m\n",
            "\u001b[?25h  Preparing metadata (setup.py) ... \u001b[?25l\u001b[?25hdone\n",
            "Requirement already satisfied: py4j==0.10.9.7 in /usr/local/lib/python3.10/dist-packages (from pyspark) (0.10.9.7)\n",
            "Building wheels for collected packages: pyspark\n",
            "  Building wheel for pyspark (setup.py) ... \u001b[?25l\u001b[?25hdone\n",
            "  Created wheel for pyspark: filename=pyspark-3.5.0-py2.py3-none-any.whl size=317425344 sha256=c2c3b30cd7d4db18b7c9b8848adc156f238a14109cbd4d6d92e7cc3e515379df\n",
            "  Stored in directory: /root/.cache/pip/wheels/41/4e/10/c2cf2467f71c678cfc8a6b9ac9241e5e44a01940da8fbb17fc\n",
            "Successfully built pyspark\n",
            "Installing collected packages: pyspark\n",
            "Successfully installed pyspark-3.5.0\n"
          ]
        }
      ],
      "source": [
        "!pip install pyspark"
      ]
    },
    {
      "cell_type": "markdown",
      "source": [
        "## **Importação dos Pacotes**"
      ],
      "metadata": {
        "id": "F8ICuzc6dU4d"
      }
    },
    {
      "cell_type": "code",
      "source": [
        "import string\n",
        "from pyspark.sql import SparkSession\n",
        "from pyspark.sql.functions import count, desc , col, max, when, isnan\n",
        "from pyspark.sql.functions import upper, col\n",
        "from pyspark.sql import functions as sf\n",
        "from pyspark.ml.linalg import Vectors\n",
        "from pyspark.ml.feature import VectorAssembler, OneHotEncoder, StringIndexer\n",
        "from pyspark.ml.clustering import KMeans\n",
        "from pyspark.ml.evaluation import ClusteringEvaluator"
      ],
      "metadata": {
        "id": "IxLk5kQBM9fi"
      },
      "execution_count": 71,
      "outputs": []
    },
    {
      "cell_type": "markdown",
      "source": [
        "## **Inicia a sessão do Spark**"
      ],
      "metadata": {
        "id": "DrM0QEoodeF4"
      }
    },
    {
      "cell_type": "code",
      "source": [
        "spark = SparkSession.builder.appName(\"AtividadeFinal\").master('local[*]').getOrCreate()"
      ],
      "metadata": {
        "id": "VcYQed00NM5-"
      },
      "execution_count": 4,
      "outputs": []
    },
    {
      "cell_type": "markdown",
      "source": [
        "## **Carrega os arquivos CSVs e adicona o encode para permitir acentuação**"
      ],
      "metadata": {
        "id": "YlYsndHPds4H"
      }
    },
    {
      "cell_type": "code",
      "source": [
        "idh = \"/content/sample_data/idh_2010_tratado.csv\"\n",
        "enem = \"/content/sample_data/enem_2022_tratado.csv\""
      ],
      "metadata": {
        "id": "W2lz0T4JTmzr"
      },
      "execution_count": 5,
      "outputs": []
    },
    {
      "cell_type": "code",
      "source": [
        "df_i = spark.read.options(delimiter=\";\", header=True).option(\"encoding\", \"ISO-8859-1\").csv(idh)\n",
        "df_e = spark.read.options(delimiter=\";\", header=True).option(\"encoding\", \"ISO-8859-1\").csv(enem)"
      ],
      "metadata": {
        "id": "pyarFDvaTwTN"
      },
      "execution_count": 6,
      "outputs": []
    },
    {
      "cell_type": "markdown",
      "source": [
        "## **Tratamento dos Dataframes**"
      ],
      "metadata": {
        "id": "pvX7FVaneJ0E"
      }
    },
    {
      "cell_type": "code",
      "source": [
        "df_i.show()"
      ],
      "metadata": {
        "colab": {
          "base_uri": "https://localhost:8080/"
        },
        "id": "4Mrw0qL-ULtd",
        "outputId": "946f7f90-0f52-42d7-fea5-c31f33c35cf7"
      },
      "execution_count": 7,
      "outputs": [
        {
          "output_type": "stream",
          "name": "stdout",
          "text": [
            "+------------+--------------------+-----+---+\n",
            "|NM_FEDERACAO|        NM_MUNICIPIO| IDHM|IDH|\n",
            "+------------+--------------------+-----+---+\n",
            "|    Rondônia|ALTA FLORESTA D'O...|0.641|641|\n",
            "|    Rondônia|           ARIQUEMES|0.702|702|\n",
            "|    Rondônia|              CABIXI| 0.65|650|\n",
            "|    Rondônia|              CACOAL|0.718|718|\n",
            "|    Rondônia|          CEREJEIRAS|0.692|692|\n",
            "|    Rondônia|   COLORADO DO OESTE|0.685|685|\n",
            "|    Rondônia|          CORUMBIARA|0.613|613|\n",
            "|    Rondônia|       COSTA MARQUES|0.611|611|\n",
            "|    Rondônia|     ESPIGÃO D'OESTE|0.672|672|\n",
            "|    Rondônia|       GUAJARÁ-MIRIM|0.657|657|\n",
            "|    Rondônia|                JARU|0.689|689|\n",
            "|    Rondônia|           JI-PARANÁ|0.714|714|\n",
            "|    Rondônia|  MACHADINHO D'OESTE|0.596|596|\n",
            "|    Rondônia|NOVA BRASILÂNDIA ...|0.643|643|\n",
            "|    Rondônia| OURO PRETO DO OESTE|0.682|682|\n",
            "|    Rondônia|       PIMENTA BUENO| 0.71|710|\n",
            "|    Rondônia|         PORTO VELHO|0.736|736|\n",
            "|    Rondônia|   PRESIDENTE MÉDICI|0.664|664|\n",
            "|    Rondônia|          RIO CRESPO|0.643|643|\n",
            "|    Rondônia|      ROLIM DE MOURA|  0.7|700|\n",
            "+------------+--------------------+-----+---+\n",
            "only showing top 20 rows\n",
            "\n"
          ]
        }
      ]
    },
    {
      "cell_type": "code",
      "source": [
        "### Exclusão de campos que não serão usados\n",
        "df_i = df_i.drop(*('NM_FEDERACAO','IDHM'))"
      ],
      "metadata": {
        "id": "9IdGJzzapU3W"
      },
      "execution_count": 8,
      "outputs": []
    },
    {
      "cell_type": "code",
      "source": [
        "df_i.show()"
      ],
      "metadata": {
        "colab": {
          "base_uri": "https://localhost:8080/"
        },
        "id": "fMBZtpV0pcvV",
        "outputId": "d39e1e03-8d98-4e55-d04e-f758a34a1120"
      },
      "execution_count": 9,
      "outputs": [
        {
          "output_type": "stream",
          "name": "stdout",
          "text": [
            "+--------------------+---+\n",
            "|        NM_MUNICIPIO|IDH|\n",
            "+--------------------+---+\n",
            "|ALTA FLORESTA D'O...|641|\n",
            "|           ARIQUEMES|702|\n",
            "|              CABIXI|650|\n",
            "|              CACOAL|718|\n",
            "|          CEREJEIRAS|692|\n",
            "|   COLORADO DO OESTE|685|\n",
            "|          CORUMBIARA|613|\n",
            "|       COSTA MARQUES|611|\n",
            "|     ESPIGÃO D'OESTE|672|\n",
            "|       GUAJARÁ-MIRIM|657|\n",
            "|                JARU|689|\n",
            "|           JI-PARANÁ|714|\n",
            "|  MACHADINHO D'OESTE|596|\n",
            "|NOVA BRASILÂNDIA ...|643|\n",
            "| OURO PRETO DO OESTE|682|\n",
            "|       PIMENTA BUENO|710|\n",
            "|         PORTO VELHO|736|\n",
            "|   PRESIDENTE MÉDICI|664|\n",
            "|          RIO CRESPO|643|\n",
            "|      ROLIM DE MOURA|700|\n",
            "+--------------------+---+\n",
            "only showing top 20 rows\n",
            "\n"
          ]
        }
      ]
    },
    {
      "cell_type": "code",
      "source": [
        "### Contagem de registros do Dataframe IDH antes de excluir os municípios duplicados\n",
        "df_i.count()"
      ],
      "metadata": {
        "colab": {
          "base_uri": "https://localhost:8080/"
        },
        "id": "zLlNRmUipySE",
        "outputId": "9a25c736-cfb8-4852-c06e-55d5a88f0068"
      },
      "execution_count": 10,
      "outputs": [
        {
          "output_type": "execute_result",
          "data": {
            "text/plain": [
              "5564"
            ]
          },
          "metadata": {},
          "execution_count": 10
        }
      ]
    },
    {
      "cell_type": "code",
      "source": [
        "### Exclusão dos registros de municípios duplicados\n",
        "df_i = df_i.dropDuplicates(['NM_MUNICIPIO'])"
      ],
      "metadata": {
        "id": "xk_X034Xp2bB"
      },
      "execution_count": 11,
      "outputs": []
    },
    {
      "cell_type": "code",
      "source": [
        "### Nova contagem dos registros de IDH\n",
        "df_i.count()"
      ],
      "metadata": {
        "colab": {
          "base_uri": "https://localhost:8080/"
        },
        "id": "PSeRIKxUqBrR",
        "outputId": "e8306daa-4821-40fc-815b-0cd7c5fdc19f"
      },
      "execution_count": 12,
      "outputs": [
        {
          "output_type": "execute_result",
          "data": {
            "text/plain": [
              "5329"
            ]
          },
          "metadata": {},
          "execution_count": 12
        }
      ]
    },
    {
      "cell_type": "code",
      "source": [
        "### Dataframe com dados do Enem\n",
        "df_e.show()"
      ],
      "metadata": {
        "colab": {
          "base_uri": "https://localhost:8080/"
        },
        "id": "YLFx9S4cUj6b",
        "outputId": "70476d32-0bb8-4ba3-8d85-e3d72c5057e0"
      },
      "execution_count": 13,
      "outputs": [
        {
          "output_type": "stream",
          "name": "stdout",
          "text": [
            "+------------+-------+-----------+---------+------------+------------------+--------------------+-----------+----------+---------------+\n",
            "|NU_INSCRICAO|TP_SEXO|TP_COR_RACA|TP_ESCOLA|IN_TREINEIRO|CO_MUNICIPIO_PROVA|  NO_MUNICIPIO_PROVA|SG_UF_PROVA|NU_NOTA_MT|NU_NOTA_REDACAO|\n",
            "+------------+-------+-----------+---------+------------+------------------+--------------------+-----------+----------+---------------+\n",
            "|    2,10E+11|      M|          2|        1|           0|           5300108|            Brasília|         DF|      NULL|           NULL|\n",
            "|    2,10E+11|      M|          1|        1|           0|           5300108|            Brasília|         DF|      NULL|           NULL|\n",
            "|    2,10E+11|      F|          2|        1|           0|           2925758|Presidente Tancre...|         BA|       565|            760|\n",
            "|    2,10E+11|      M|          3|        1|           0|           3201308|           Cariacica|         ES|       416|            320|\n",
            "|    2,10E+11|      M|          3|        1|           0|           1506203|         Salinópolis|         PA|      NULL|           NULL|\n",
            "|    2,10E+11|      F|          3|        1|           0|           3304557|      Rio de Janeiro|         RJ|      NULL|           NULL|\n",
            "|    2,10E+11|      M|          2|        1|           0|           2611606|              Recife|         PE|      NULL|           NULL|\n",
            "|    2,10E+11|      F|          2|        1|           0|           3304904|         São Gonçalo|         RJ|       405|            440|\n",
            "|    2,10E+11|      F|          3|        1|           0|           2901007|            Amargosa|         BA|      NULL|           NULL|\n",
            "|    2,10E+11|      F|          3|        1|           0|           2601201|           Arcoverde|         PE|       435|            360|\n",
            "|    2,10E+11|      F|          3|        1|           0|           2510808|               Patos|         PB|      NULL|           NULL|\n",
            "|    2,10E+11|      F|          1|        3|           0|           2804508|Nossa Senhora da ...|         SE|       457|            940|\n",
            "|    2,10E+11|      M|          2|        1|           0|           2927408|            Salvador|         BA|      NULL|           NULL|\n",
            "|    2,10E+11|      F|          3|        1|           0|           3550308|           São Paulo|         SP|      NULL|           NULL|\n",
            "|    2,10E+11|      M|          2|        1|           0|           5103403|              Cuiabá|         MT|      NULL|           NULL|\n",
            "|    2,10E+11|      F|          3|        2|           0|           2802106|            Estância|         SE|      NULL|           NULL|\n",
            "|    2,10E+11|      F|          2|        1|           0|           2910057|        Dias d'Ávila|         BA|      NULL|           NULL|\n",
            "|    2,10E+11|      F|          3|        1|           1|           3510500|       Caraguatatuba|         SP|       536|            640|\n",
            "|    2,10E+11|      F|          2|        1|           0|           3137007|            Ladainha|         MG|       695|            860|\n",
            "|    2,10E+11|      F|          1|        1|           1|           3302403|               Macaé|         RJ|      NULL|           NULL|\n",
            "+------------+-------+-----------+---------+------------+------------------+--------------------+-----------+----------+---------------+\n",
            "only showing top 20 rows\n",
            "\n"
          ]
        }
      ]
    },
    {
      "cell_type": "code",
      "source": [
        "from pyspark.sql.functions import upper, col\n",
        "from pyspark.sql import functions as sf"
      ],
      "metadata": {
        "id": "iLRVHa-V_6E6"
      },
      "execution_count": 14,
      "outputs": []
    },
    {
      "cell_type": "code",
      "source": [
        "### Colocar emletras maiúsculas o campo 'Municípios' do Dataframe Enem\n",
        "df_e = df_e.withColumn(\"NO_MUNICIPIO\", upper(df_e.NO_MUNICIPIO_PROVA))\n",
        "\n",
        "### Atriubuir um identificador único para cada registro do Dataframe Enem\n",
        "df_e = df_e.select(\"*\").withColumn(\"id\", sf.monotonically_increasing_id())\n",
        "\n",
        "### Exclusão dos campos que não serão usados\n",
        "df_e = df_e.drop(*('NU_INSCRICAO', 'CO_MUNICIPIO_PROVA', 'NO_MUNICIPIO_PROVA', 'IN_TREINEIRO'))"
      ],
      "metadata": {
        "id": "u9kxLO93exhs"
      },
      "execution_count": 15,
      "outputs": []
    },
    {
      "cell_type": "code",
      "source": [
        "df_e.show()"
      ],
      "metadata": {
        "colab": {
          "base_uri": "https://localhost:8080/"
        },
        "id": "VvCvIt1kfD0r",
        "outputId": "b4323924-a12d-4aa6-c176-d206ff0f919a"
      },
      "execution_count": 16,
      "outputs": [
        {
          "output_type": "stream",
          "name": "stdout",
          "text": [
            "+-------+-----------+---------+-----------+----------+---------------+--------------------+---+\n",
            "|TP_SEXO|TP_COR_RACA|TP_ESCOLA|SG_UF_PROVA|NU_NOTA_MT|NU_NOTA_REDACAO|        NO_MUNICIPIO| id|\n",
            "+-------+-----------+---------+-----------+----------+---------------+--------------------+---+\n",
            "|      M|          2|        1|         DF|      NULL|           NULL|            BRASÍLIA|  0|\n",
            "|      M|          1|        1|         DF|      NULL|           NULL|            BRASÍLIA|  1|\n",
            "|      F|          2|        1|         BA|       565|            760|PRESIDENTE TANCRE...|  2|\n",
            "|      M|          3|        1|         ES|       416|            320|           CARIACICA|  3|\n",
            "|      M|          3|        1|         PA|      NULL|           NULL|         SALINÓPOLIS|  4|\n",
            "|      F|          3|        1|         RJ|      NULL|           NULL|      RIO DE JANEIRO|  5|\n",
            "|      M|          2|        1|         PE|      NULL|           NULL|              RECIFE|  6|\n",
            "|      F|          2|        1|         RJ|       405|            440|         SÃO GONÇALO|  7|\n",
            "|      F|          3|        1|         BA|      NULL|           NULL|            AMARGOSA|  8|\n",
            "|      F|          3|        1|         PE|       435|            360|           ARCOVERDE|  9|\n",
            "|      F|          3|        1|         PB|      NULL|           NULL|               PATOS| 10|\n",
            "|      F|          1|        3|         SE|       457|            940|NOSSA SENHORA DA ...| 11|\n",
            "|      M|          2|        1|         BA|      NULL|           NULL|            SALVADOR| 12|\n",
            "|      F|          3|        1|         SP|      NULL|           NULL|           SÃO PAULO| 13|\n",
            "|      M|          2|        1|         MT|      NULL|           NULL|              CUIABÁ| 14|\n",
            "|      F|          3|        2|         SE|      NULL|           NULL|            ESTÂNCIA| 15|\n",
            "|      F|          2|        1|         BA|      NULL|           NULL|        DIAS D'ÁVILA| 16|\n",
            "|      F|          3|        1|         SP|       536|            640|       CARAGUATATUBA| 17|\n",
            "|      F|          2|        1|         MG|       695|            860|            LADAINHA| 18|\n",
            "|      F|          1|        1|         RJ|      NULL|           NULL|               MACAÉ| 19|\n",
            "+-------+-----------+---------+-----------+----------+---------------+--------------------+---+\n",
            "only showing top 20 rows\n",
            "\n"
          ]
        }
      ]
    },
    {
      "cell_type": "code",
      "source": [
        "### Join dos Datafrmaes IDH e Enem pelo Município\n",
        "df = df_e.join(df_i, df_e.NO_MUNICIPIO == df_i.NM_MUNICIPIO, \"left\" )\n",
        "df = df.drop('NM_MUNICIPIO')"
      ],
      "metadata": {
        "id": "8-_LNrLAWwsv"
      },
      "execution_count": 17,
      "outputs": []
    },
    {
      "cell_type": "code",
      "source": [
        "df.show()"
      ],
      "metadata": {
        "colab": {
          "base_uri": "https://localhost:8080/"
        },
        "id": "ZA0lwOQIYMAR",
        "outputId": "461862c8-c01a-41fb-dbde-f6a876267356"
      },
      "execution_count": 18,
      "outputs": [
        {
          "output_type": "stream",
          "name": "stdout",
          "text": [
            "+-------+-----------+---------+-----------+----------+---------------+--------------------+---+----+\n",
            "|TP_SEXO|TP_COR_RACA|TP_ESCOLA|SG_UF_PROVA|NU_NOTA_MT|NU_NOTA_REDACAO|        NO_MUNICIPIO| id| IDH|\n",
            "+-------+-----------+---------+-----------+----------+---------------+--------------------+---+----+\n",
            "|      M|          2|        1|         DF|      NULL|           NULL|            BRASÍLIA|  0| 824|\n",
            "|      M|          1|        1|         DF|      NULL|           NULL|            BRASÍLIA|  1| 824|\n",
            "|      F|          2|        1|         BA|       565|            760|PRESIDENTE TANCRE...|  2| 559|\n",
            "|      M|          3|        1|         ES|       416|            320|           CARIACICA|  3| 718|\n",
            "|      M|          3|        1|         PA|      NULL|           NULL|         SALINÓPOLIS|  4| 647|\n",
            "|      F|          3|        1|         RJ|      NULL|           NULL|      RIO DE JANEIRO|  5| 799|\n",
            "|      M|          2|        1|         PE|      NULL|           NULL|              RECIFE|  6| 772|\n",
            "|      F|          2|        1|         RJ|       405|            440|         SÃO GONÇALO|  7| 739|\n",
            "|      F|          3|        1|         BA|      NULL|           NULL|            AMARGOSA|  8| 625|\n",
            "|      F|          3|        1|         PE|       435|            360|           ARCOVERDE|  9| 667|\n",
            "|      F|          3|        1|         PB|      NULL|           NULL|               PATOS| 10| 701|\n",
            "|      F|          1|        3|         SE|       457|            940|NOSSA SENHORA DA ...| 11| 587|\n",
            "|      M|          2|        1|         BA|      NULL|           NULL|            SALVADOR| 12| 759|\n",
            "|      F|          3|        1|         SP|      NULL|           NULL|           SÃO PAULO| 13| 805|\n",
            "|      M|          2|        1|         MT|      NULL|           NULL|              CUIABÁ| 14| 785|\n",
            "|      F|          3|        2|         SE|      NULL|           NULL|            ESTÂNCIA| 15| 647|\n",
            "|      F|          2|        1|         BA|      NULL|           NULL|        DIAS D'ÁVILA| 16| 676|\n",
            "|      F|          3|        1|         SP|       536|            640|       CARAGUATATUBA| 17| 759|\n",
            "|      F|          2|        1|         MG|       695|            860|            LADAINHA| 18|NULL|\n",
            "|      F|          1|        1|         RJ|      NULL|           NULL|               MACAÉ| 19| 764|\n",
            "+-------+-----------+---------+-----------+----------+---------------+--------------------+---+----+\n",
            "only showing top 20 rows\n",
            "\n"
          ]
        }
      ]
    },
    {
      "cell_type": "code",
      "source": [
        "### Contagem de registros do Dataframe Enem antes da exlusão dos registros sem nota de Matemática ou Redação\n",
        "df.count()"
      ],
      "metadata": {
        "colab": {
          "base_uri": "https://localhost:8080/"
        },
        "id": "siDA0j8znPCH",
        "outputId": "16513528-bc56-4df0-cd88-b3c5e986b7e7"
      },
      "execution_count": 19,
      "outputs": [
        {
          "output_type": "execute_result",
          "data": {
            "text/plain": [
              "1020883"
            ]
          },
          "metadata": {},
          "execution_count": 19
        }
      ]
    },
    {
      "cell_type": "code",
      "source": [
        "### Exclusão dos registros nulos de notas de Matemática e Redação\n",
        "df = df.na.drop(how=\"any\")"
      ],
      "metadata": {
        "id": "l_n5-QyfqwOH"
      },
      "execution_count": 20,
      "outputs": []
    },
    {
      "cell_type": "code",
      "source": [
        "df.show()"
      ],
      "metadata": {
        "colab": {
          "base_uri": "https://localhost:8080/"
        },
        "id": "tMS4CLebq_un",
        "outputId": "5ab94994-5067-46f2-a57f-3052363d9146"
      },
      "execution_count": 21,
      "outputs": [
        {
          "output_type": "stream",
          "name": "stdout",
          "text": [
            "+-------+-----------+---------+-----------+----------+---------------+--------------------+---+---+\n",
            "|TP_SEXO|TP_COR_RACA|TP_ESCOLA|SG_UF_PROVA|NU_NOTA_MT|NU_NOTA_REDACAO|        NO_MUNICIPIO| id|IDH|\n",
            "+-------+-----------+---------+-----------+----------+---------------+--------------------+---+---+\n",
            "|      F|          2|        1|         BA|       565|            760|PRESIDENTE TANCRE...|  2|559|\n",
            "|      M|          3|        1|         ES|       416|            320|           CARIACICA|  3|718|\n",
            "|      F|          2|        1|         RJ|       405|            440|         SÃO GONÇALO|  7|739|\n",
            "|      F|          3|        1|         PE|       435|            360|           ARCOVERDE|  9|667|\n",
            "|      F|          1|        3|         SE|       457|            940|NOSSA SENHORA DA ...| 11|587|\n",
            "|      F|          3|        1|         SP|       536|            640|       CARAGUATATUBA| 17|759|\n",
            "|      F|          3|        1|         PE|       463|              0|             CARPINA| 20|680|\n",
            "|      F|          1|        1|         RJ|       343|            640|             ITAGUAÍ| 22|715|\n",
            "|      M|          3|        1|         CE|       625|            760|           FORTALEZA| 23|754|\n",
            "|      M|          3|        1|         BA|       383|            520|CAMPO ALEGRE DE L...| 25|557|\n",
            "|      M|          2|        1|         BA|       573|            640|            SERRINHA| 27|592|\n",
            "|      F|          5|        1|         PE|       615|            300|             CABROBÓ| 29|623|\n",
            "|      F|          3|        1|         AM|       745|            640|          MANACAPURU| 30|614|\n",
            "|      M|          1|        1|         RS|       352|            360|             ERECHIM| 31|776|\n",
            "|      F|          1|        1|         RS|       536|            760|        PORTO ALEGRE| 33|805|\n",
            "|      F|          3|        1|         MA|       446|            540|            SÃO LUÍS| 36|768|\n",
            "|      F|          3|        1|         AM|       475|            360|              MANAUS| 37|737|\n",
            "|      F|          3|        1|         PE|       409|            420|              RECIFE| 38|772|\n",
            "|      F|          1|        1|         SP|       568|            460|  SÃO MIGUEL ARCANJO| 39|710|\n",
            "|      F|          3|        2|         CE|       430|            560|             ARACATI| 40|655|\n",
            "+-------+-----------+---------+-----------+----------+---------------+--------------------+---+---+\n",
            "only showing top 20 rows\n",
            "\n"
          ]
        }
      ]
    },
    {
      "cell_type": "code",
      "source": [
        "### Nova contagem do Dataframe\n",
        "df.count()"
      ],
      "metadata": {
        "colab": {
          "base_uri": "https://localhost:8080/"
        },
        "id": "sLSNcQRdrCI_",
        "outputId": "1522de7d-5229-4e12-ed85-d751c7605aef"
      },
      "execution_count": 22,
      "outputs": [
        {
          "output_type": "execute_result",
          "data": {
            "text/plain": [
              "668630"
            ]
          },
          "metadata": {},
          "execution_count": 22
        }
      ]
    },
    {
      "cell_type": "code",
      "source": [
        "### Visualização dos tipos de dados\n",
        "df.printSchema()"
      ],
      "metadata": {
        "colab": {
          "base_uri": "https://localhost:8080/"
        },
        "id": "vo1__3YasuZM",
        "outputId": "bdca9c79-9e83-4c03-a71f-e7d73380dd3d"
      },
      "execution_count": 23,
      "outputs": [
        {
          "output_type": "stream",
          "name": "stdout",
          "text": [
            "root\n",
            " |-- TP_SEXO: string (nullable = true)\n",
            " |-- TP_COR_RACA: string (nullable = true)\n",
            " |-- TP_ESCOLA: string (nullable = true)\n",
            " |-- SG_UF_PROVA: string (nullable = true)\n",
            " |-- NU_NOTA_MT: string (nullable = true)\n",
            " |-- NU_NOTA_REDACAO: string (nullable = true)\n",
            " |-- NO_MUNICIPIO: string (nullable = true)\n",
            " |-- id: long (nullable = false)\n",
            " |-- IDH: string (nullable = true)\n",
            "\n"
          ]
        }
      ]
    },
    {
      "cell_type": "code",
      "source": [
        "### Correção do tipo de dados para campos quantitativos\n",
        "df = df.withColumn(\"NU_NOTA_MT\",df.NU_NOTA_MT.cast('int'))\n",
        "df = df.withColumn(\"NU_NOTA_REDACAO\",df.NU_NOTA_REDACAO.cast('int'))\n",
        "df = df.withColumn(\"IDH\",df.IDH.cast('int'))"
      ],
      "metadata": {
        "id": "OD-k7e1htSQq"
      },
      "execution_count": 24,
      "outputs": []
    },
    {
      "cell_type": "code",
      "source": [
        "df.printSchema()"
      ],
      "metadata": {
        "colab": {
          "base_uri": "https://localhost:8080/"
        },
        "id": "_PiqAD0YtjyA",
        "outputId": "3488a01f-b483-4028-d3a9-211128d3521c"
      },
      "execution_count": 25,
      "outputs": [
        {
          "output_type": "stream",
          "name": "stdout",
          "text": [
            "root\n",
            " |-- TP_SEXO: string (nullable = true)\n",
            " |-- TP_COR_RACA: string (nullable = true)\n",
            " |-- TP_ESCOLA: string (nullable = true)\n",
            " |-- SG_UF_PROVA: string (nullable = true)\n",
            " |-- NU_NOTA_MT: integer (nullable = true)\n",
            " |-- NU_NOTA_REDACAO: integer (nullable = true)\n",
            " |-- NO_MUNICIPIO: string (nullable = true)\n",
            " |-- id: long (nullable = false)\n",
            " |-- IDH: integer (nullable = true)\n",
            "\n"
          ]
        }
      ]
    },
    {
      "cell_type": "markdown",
      "source": [
        "## **Análise de Dados**"
      ],
      "metadata": {
        "id": "sVgTSbq9wWCW"
      }
    },
    {
      "cell_type": "code",
      "source": [
        "### Visualizar a nota de Matemática e Redação por ID\n",
        "df.select(\"id\", \"NU_NOTA_REDACAO\", \"NU_NOTA_MT\").show()"
      ],
      "metadata": {
        "colab": {
          "base_uri": "https://localhost:8080/"
        },
        "id": "vFEyeemgwX0O",
        "outputId": "47f013bf-be1a-4f0d-8422-ff42c4b0dd06"
      },
      "execution_count": 26,
      "outputs": [
        {
          "output_type": "stream",
          "name": "stdout",
          "text": [
            "+---+---------------+----------+\n",
            "| id|NU_NOTA_REDACAO|NU_NOTA_MT|\n",
            "+---+---------------+----------+\n",
            "|  2|            760|       565|\n",
            "|  3|            320|       416|\n",
            "|  7|            440|       405|\n",
            "|  9|            360|       435|\n",
            "| 11|            940|       457|\n",
            "| 17|            640|       536|\n",
            "| 20|              0|       463|\n",
            "| 22|            640|       343|\n",
            "| 23|            760|       625|\n",
            "| 25|            520|       383|\n",
            "| 27|            640|       573|\n",
            "| 29|            300|       615|\n",
            "| 30|            640|       745|\n",
            "| 31|            360|       352|\n",
            "| 33|            760|       536|\n",
            "| 36|            540|       446|\n",
            "| 37|            360|       475|\n",
            "| 38|            420|       409|\n",
            "| 39|            460|       568|\n",
            "| 40|            560|       430|\n",
            "+---+---------------+----------+\n",
            "only showing top 20 rows\n",
            "\n"
          ]
        }
      ]
    },
    {
      "cell_type": "code",
      "source": [
        " ### Verificar a média das notas de Redação por Estado\n",
        "(\n",
        "    df\n",
        "    .groupby(\"SG_UF_PROVA\")\n",
        "    .agg({'NU_NOTA_REDACAO': 'avg'})\n",
        "    .show()\n",
        ")"
      ],
      "metadata": {
        "colab": {
          "base_uri": "https://localhost:8080/"
        },
        "id": "a_OJXIs3z9bf",
        "outputId": "f847028b-12f8-4954-ba40-bc773ba42585"
      },
      "execution_count": 27,
      "outputs": [
        {
          "output_type": "stream",
          "name": "stdout",
          "text": [
            "+-----------+--------------------+\n",
            "|SG_UF_PROVA|avg(NU_NOTA_REDACAO)|\n",
            "+-----------+--------------------+\n",
            "|         SC|   656.6800672465463|\n",
            "|         RO|   616.2198952879581|\n",
            "|         PI|   625.6701692072419|\n",
            "|         AM|   557.5930632381522|\n",
            "|         RR|   589.8901098901099|\n",
            "|         GO|   635.0904704463209|\n",
            "|         TO|   621.2470952749807|\n",
            "|         MT|   616.5049258815947|\n",
            "|         SP|   653.5130295363921|\n",
            "|         ES|   658.8003132341425|\n",
            "|         PB|   632.1715463917526|\n",
            "|         RS|   649.0904033379694|\n",
            "|         MS|   613.6243781094528|\n",
            "|         AL|   620.9066940090815|\n",
            "|         MG|   659.7096317280453|\n",
            "|         PA|   605.1226056803171|\n",
            "|         BA|   618.4151148132191|\n",
            "|         SE|   642.5996015936255|\n",
            "|         PE|   627.5359668960208|\n",
            "|         CE|   600.9539911394982|\n",
            "+-----------+--------------------+\n",
            "only showing top 20 rows\n",
            "\n"
          ]
        }
      ]
    },
    {
      "cell_type": "code",
      "source": [
        " ### Verificar a média das notas de Matemática por Estado\n",
        "(\n",
        "    df\n",
        "    .groupby(\"SG_UF_PROVA\")\n",
        "    .agg({'NU_NOTA_MT': 'avg'})\n",
        "    .show()\n",
        ")"
      ],
      "metadata": {
        "colab": {
          "base_uri": "https://localhost:8080/"
        },
        "id": "P92-1X0LC3je",
        "outputId": "abe00aae-cc6a-4d25-a82c-4c3010b03c8f"
      },
      "execution_count": 28,
      "outputs": [
        {
          "output_type": "stream",
          "name": "stdout",
          "text": [
            "+-----------+------------------+\n",
            "|SG_UF_PROVA|   avg(NU_NOTA_MT)|\n",
            "+-----------+------------------+\n",
            "|         SC| 562.7392003508515|\n",
            "|         RO| 514.2657940663177|\n",
            "|         PI| 513.9361649647279|\n",
            "|         AM| 489.7610255643594|\n",
            "|         RR|511.21217244294166|\n",
            "|         GO| 530.1149861633435|\n",
            "|         TO| 514.7424477149497|\n",
            "|         MT| 523.5862259460455|\n",
            "|         SP| 564.2274208493404|\n",
            "|         ES| 553.8880187940485|\n",
            "|         PB| 517.3012371134021|\n",
            "|         RS| 550.8450625869262|\n",
            "|         MS| 524.2993781094527|\n",
            "|         AL| 516.6628094331331|\n",
            "|         MG| 559.0131019830028|\n",
            "|         PA| 493.1115422721268|\n",
            "|         BA| 510.1659884787847|\n",
            "|         SE| 513.0799925298804|\n",
            "|         PE| 529.6026079006881|\n",
            "|         CE| 521.2425992892813|\n",
            "+-----------+------------------+\n",
            "only showing top 20 rows\n",
            "\n"
          ]
        }
      ]
    },
    {
      "cell_type": "code",
      "source": [
        "### Verificar as notas mais altas de Redação por Estado\n",
        "(\n",
        "    df\n",
        "    .groupby(\"SG_UF_PROVA\")\n",
        "    .agg({'NU_NOTA_REDACAO': 'max'})\n",
        "    .show()\n",
        ")"
      ],
      "metadata": {
        "colab": {
          "base_uri": "https://localhost:8080/"
        },
        "id": "_2sCzQ3003zQ",
        "outputId": "ab1789d9-d42c-4bad-a405-735e7c5685a7"
      },
      "execution_count": 29,
      "outputs": [
        {
          "output_type": "stream",
          "name": "stdout",
          "text": [
            "+-----------+--------------------+\n",
            "|SG_UF_PROVA|max(NU_NOTA_REDACAO)|\n",
            "+-----------+--------------------+\n",
            "|         SC|                 980|\n",
            "|         RO|                 980|\n",
            "|         PI|                 980|\n",
            "|         AM|                 980|\n",
            "|         RR|                 980|\n",
            "|         GO|                 980|\n",
            "|         TO|                 980|\n",
            "|         MT|                 980|\n",
            "|         SP|                 980|\n",
            "|         ES|                 980|\n",
            "|         PB|                1000|\n",
            "|         RS|                 980|\n",
            "|         MS|                 980|\n",
            "|         AL|                 980|\n",
            "|         MG|                 980|\n",
            "|         PA|                 980|\n",
            "|         BA|                 980|\n",
            "|         SE|                 980|\n",
            "|         PE|                 980|\n",
            "|         CE|                 980|\n",
            "+-----------+--------------------+\n",
            "only showing top 20 rows\n",
            "\n"
          ]
        }
      ]
    },
    {
      "cell_type": "code",
      "source": [
        "### Verificar a média das notas agrupadas por Estado e Gênero\n",
        "(\n",
        "    df\n",
        "    .groupby(\"SG_UF_PROVA\", \"TP_SEXO\")\n",
        "    .agg({'NU_NOTA_REDACAO': 'avg'})\n",
        "    .show()\n",
        ")"
      ],
      "metadata": {
        "colab": {
          "base_uri": "https://localhost:8080/"
        },
        "id": "vc_NISSS1fUO",
        "outputId": "bc42fcae-b1f9-4caf-b20d-5d58b3a12235"
      },
      "execution_count": 30,
      "outputs": [
        {
          "output_type": "stream",
          "name": "stdout",
          "text": [
            "+-----------+-------+--------------------+\n",
            "|SG_UF_PROVA|TP_SEXO|avg(NU_NOTA_REDACAO)|\n",
            "+-----------+-------+--------------------+\n",
            "|         SC|      M|   635.7577319587629|\n",
            "|         RS|      M|   630.9337387558596|\n",
            "|         AC|      M|   599.2667794698251|\n",
            "|         SC|      F|   664.9627589021528|\n",
            "|         RR|      F|    598.021712907117|\n",
            "|         SP|      F|   661.7404686109141|\n",
            "|         MA|      F|   612.2147383126279|\n",
            "|         SE|      M|   630.4562178072111|\n",
            "|         MA|      M|   600.5927283837458|\n",
            "|         RO|      F|   625.5755395683453|\n",
            "|         RN|      F|   631.8371590818203|\n",
            "|         CE|      M|   572.2705205765927|\n",
            "|         PE|      M|   612.4181342386307|\n",
            "|         MT|      F|   622.5043996209557|\n",
            "|         AL|      F|   628.6634103019538|\n",
            "|         AM|      M|   546.6888242625676|\n",
            "|         RR|      M|   570.8474576271186|\n",
            "|         PR|      F|   645.7289719626168|\n",
            "|         PI|      F|   628.8918597742127|\n",
            "|         SP|      M|    635.195162915687|\n",
            "+-----------+-------+--------------------+\n",
            "only showing top 20 rows\n",
            "\n"
          ]
        }
      ]
    },
    {
      "cell_type": "code",
      "source": [
        "### Verificar a média das notas de Redação por Gênero para o Estado de Mato Grosso\n",
        "(\n",
        "    df\n",
        "    .where(df.SG_UF_PROVA == 'MT')\n",
        "    .groupby(\"SG_UF_PROVA\", \"TP_SEXO\")\n",
        "    .agg({'NU_NOTA_REDACAO': 'avg'})\n",
        "    .show()\n",
        ")"
      ],
      "metadata": {
        "colab": {
          "base_uri": "https://localhost:8080/"
        },
        "id": "UwRb8vZw4UxY",
        "outputId": "e46aa61c-55f0-4d5f-bd35-df344f0d7efc"
      },
      "execution_count": 31,
      "outputs": [
        {
          "output_type": "stream",
          "name": "stdout",
          "text": [
            "+-----------+-------+--------------------+\n",
            "|SG_UF_PROVA|TP_SEXO|avg(NU_NOTA_REDACAO)|\n",
            "+-----------+-------+--------------------+\n",
            "|         MT|      F|   622.5043996209557|\n",
            "|         MT|      M|    603.747841105354|\n",
            "+-----------+-------+--------------------+\n",
            "\n"
          ]
        }
      ]
    },
    {
      "cell_type": "code",
      "source": [
        "### Estatística Geral\n",
        "(\n",
        "    df\n",
        "    .describe()\n",
        "    .show()\n",
        ")"
      ],
      "metadata": {
        "colab": {
          "base_uri": "https://localhost:8080/"
        },
        "id": "h5txkvUx6WmB",
        "outputId": "8ad2531a-2bd4-4e5d-ee97-6d23692e32d0"
      },
      "execution_count": 32,
      "outputs": [
        {
          "output_type": "stream",
          "name": "stdout",
          "text": [
            "+-------+-------+------------------+-----------------+-----------+-----------------+------------------+------------+-------------------+-----------------+\n",
            "|summary|TP_SEXO|       TP_COR_RACA|        TP_ESCOLA|SG_UF_PROVA|       NU_NOTA_MT|   NU_NOTA_REDACAO|NO_MUNICIPIO|                 id|              IDH|\n",
            "+-------+-------+------------------+-----------------+-----------+-----------------+------------------+------------+-------------------+-----------------+\n",
            "|  count| 668630|            668630|           668630|     668630|           668630|            668630|      668630|             668630|           668630|\n",
            "|   mean|   NULL|2.0911371012368574|1.514351734142949|       NULL|529.1915498855869| 628.3884061439062|        NULL|3.887366719379355E9|712.6342850305849|\n",
            "| stddev|   NULL|1.0118603321914381|0.603364808912964|       NULL|112.5220634849323|204.14110463708386|        NULL|4.275537308465593E9|76.80470640723459|\n",
            "|    min|      F|                 0|                1|         AC|                0|                 0|  ABAETETUBA|                  2|              469|\n",
            "|    max|      M|                 5|                3|         TO|              984|              1000|      ÓBIDOS|         8590399713|              862|\n",
            "+-------+-------+------------------+-----------------+-----------+-----------------+------------------+------------+-------------------+-----------------+\n",
            "\n"
          ]
        }
      ]
    },
    {
      "cell_type": "markdown",
      "source": [
        "## **Montagem do Dataframe para o Modelo**"
      ],
      "metadata": {
        "id": "kHagLKZrEEUB"
      }
    },
    {
      "cell_type": "code",
      "source": [
        "df.show()"
      ],
      "metadata": {
        "colab": {
          "base_uri": "https://localhost:8080/"
        },
        "id": "nSjB6Z1j_Q-i",
        "outputId": "3b1ca39e-acf8-4b54-da7d-ca1936ead918"
      },
      "execution_count": 33,
      "outputs": [
        {
          "output_type": "stream",
          "name": "stdout",
          "text": [
            "+-------+-----------+---------+-----------+----------+---------------+--------------------+---+---+\n",
            "|TP_SEXO|TP_COR_RACA|TP_ESCOLA|SG_UF_PROVA|NU_NOTA_MT|NU_NOTA_REDACAO|        NO_MUNICIPIO| id|IDH|\n",
            "+-------+-----------+---------+-----------+----------+---------------+--------------------+---+---+\n",
            "|      F|          2|        1|         BA|       565|            760|PRESIDENTE TANCRE...|  2|559|\n",
            "|      M|          3|        1|         ES|       416|            320|           CARIACICA|  3|718|\n",
            "|      F|          2|        1|         RJ|       405|            440|         SÃO GONÇALO|  7|739|\n",
            "|      F|          3|        1|         PE|       435|            360|           ARCOVERDE|  9|667|\n",
            "|      F|          1|        3|         SE|       457|            940|NOSSA SENHORA DA ...| 11|587|\n",
            "|      F|          3|        1|         SP|       536|            640|       CARAGUATATUBA| 17|759|\n",
            "|      F|          3|        1|         PE|       463|              0|             CARPINA| 20|680|\n",
            "|      F|          1|        1|         RJ|       343|            640|             ITAGUAÍ| 22|715|\n",
            "|      M|          3|        1|         CE|       625|            760|           FORTALEZA| 23|754|\n",
            "|      M|          3|        1|         BA|       383|            520|CAMPO ALEGRE DE L...| 25|557|\n",
            "|      M|          2|        1|         BA|       573|            640|            SERRINHA| 27|592|\n",
            "|      F|          5|        1|         PE|       615|            300|             CABROBÓ| 29|623|\n",
            "|      F|          3|        1|         AM|       745|            640|          MANACAPURU| 30|614|\n",
            "|      M|          1|        1|         RS|       352|            360|             ERECHIM| 31|776|\n",
            "|      F|          1|        1|         RS|       536|            760|        PORTO ALEGRE| 33|805|\n",
            "|      F|          3|        1|         MA|       446|            540|            SÃO LUÍS| 36|768|\n",
            "|      F|          3|        1|         AM|       475|            360|              MANAUS| 37|737|\n",
            "|      F|          3|        1|         PE|       409|            420|              RECIFE| 38|772|\n",
            "|      F|          1|        1|         SP|       568|            460|  SÃO MIGUEL ARCANJO| 39|710|\n",
            "|      F|          3|        2|         CE|       430|            560|             ARACATI| 40|655|\n",
            "+-------+-----------+---------+-----------+----------+---------------+--------------------+---+---+\n",
            "only showing top 20 rows\n",
            "\n"
          ]
        }
      ]
    },
    {
      "cell_type": "code",
      "source": [
        "### Execução dos 'String Indexer'\n",
        "tp_sexo_index = StringIndexer(inputCol=\"TP_SEXO\", outputCol=\"INDEXED_TP_SEXO\")\n",
        "model_tp_sexo = tp_sexo_index.fit(df)\n",
        "df = model_tp_sexo.transform(df)\n",
        "\n",
        "tp_cor_raca_index = StringIndexer(inputCol=\"TP_COR_RACA\", outputCol=\"INDEXED_TP_COR_RACA\")\n",
        "model_tp_cor_raca = tp_cor_raca_index.fit(df)\n",
        "df = model_tp_cor_raca.transform(df)\n",
        "\n",
        "tp_escola_index = StringIndexer(inputCol=\"TP_ESCOLA\", outputCol=\"INDEXED_TP_ESCOLA\")\n",
        "model_tp_escola = tp_escola_index.fit(df)\n",
        "df = model_tp_escola.transform(df)\n",
        "\n",
        "sg_uf_index = StringIndexer(inputCol=\"SG_UF_PROVA\", outputCol=\"INDEXED_SG_UF_PROVA\")\n",
        "model_sg_uf = sg_uf_index.fit(df)\n",
        "df = model_sg_uf.transform(df)\n",
        "\n",
        "no_municipio_index = StringIndexer(inputCol=\"NO_MUNICIPIO\", outputCol=\"INDEXED_NO_MUNICIPIO\")\n",
        "model_no_municipio = no_municipio_index.fit(df)\n",
        "df = model_no_municipio.transform(df)"
      ],
      "metadata": {
        "id": "yljvuMw5IvAQ"
      },
      "execution_count": 34,
      "outputs": []
    },
    {
      "cell_type": "code",
      "source": [
        "### Aplicação do 'Hot Encoder'\n",
        "encoders = OneHotEncoder(\n",
        "    inputCols=[\"INDEXED_TP_SEXO\", \"INDEXED_TP_COR_RACA\", \"INDEXED_TP_ESCOLA\", \"INDEXED_SG_UF_PROVA\", \"INDEXED_NO_MUNICIPIO\"],\n",
        "    outputCols=[\"TP_SEXO_VEC\", \"TP_COR_RACA_VEC\", \"TP_ESCOLA_VEC\", \"SG_UF_PROVA_VEC\", \"NO_MUNICIPIO_VEC\"],\n",
        "    dropLast=False\n",
        "    )"
      ],
      "metadata": {
        "id": "KC6F57tT_KsW"
      },
      "execution_count": 35,
      "outputs": []
    },
    {
      "cell_type": "code",
      "source": [
        "df = encoders.fit(df).transform(df)\n",
        "df.show()"
      ],
      "metadata": {
        "colab": {
          "base_uri": "https://localhost:8080/"
        },
        "id": "bID_OaT3NQ6k",
        "outputId": "76a8846b-97da-485d-9009-3f1948a8e018"
      },
      "execution_count": 36,
      "outputs": [
        {
          "output_type": "stream",
          "name": "stdout",
          "text": [
            "+-------+-----------+---------+-----------+----------+---------------+--------------------+---+---+---------------+-------------------+-----------------+-------------------+--------------------+-------------+---------------+-------------+---------------+-------------------+\n",
            "|TP_SEXO|TP_COR_RACA|TP_ESCOLA|SG_UF_PROVA|NU_NOTA_MT|NU_NOTA_REDACAO|        NO_MUNICIPIO| id|IDH|INDEXED_TP_SEXO|INDEXED_TP_COR_RACA|INDEXED_TP_ESCOLA|INDEXED_SG_UF_PROVA|INDEXED_NO_MUNICIPIO|  TP_SEXO_VEC|TP_COR_RACA_VEC|TP_ESCOLA_VEC|SG_UF_PROVA_VEC|   NO_MUNICIPIO_VEC|\n",
            "+-------+-----------+---------+-----------+----------+---------------+--------------------+---+---+---------------+-------------------+-----------------+-------------------+--------------------+-------------+---------------+-------------+---------------+-------------------+\n",
            "|      F|          2|        1|         BA|       565|            760|PRESIDENTE TANCRE...|  2|559|            0.0|                2.0|              0.0|                2.0|               927.0|(2,[0],[1.0])|  (6,[2],[1.0])|(3,[0],[1.0])| (27,[2],[1.0])| (1526,[927],[1.0])|\n",
            "|      M|          3|        1|         ES|       416|            320|           CARIACICA|  3|718|            1.0|                0.0|              0.0|               17.0|                92.0|(2,[1],[1.0])|  (6,[0],[1.0])|(3,[0],[1.0])|(27,[17],[1.0])|  (1526,[92],[1.0])|\n",
            "|      F|          2|        1|         RJ|       405|            440|         SÃO GONÇALO|  7|739|            0.0|                2.0|              0.0|                3.0|                26.0|(2,[0],[1.0])|  (6,[2],[1.0])|(3,[0],[1.0])| (27,[3],[1.0])|  (1526,[26],[1.0])|\n",
            "|      F|          3|        1|         PE|       435|            360|           ARCOVERDE|  9|667|            0.0|                0.0|              0.0|                5.0|               217.0|(2,[0],[1.0])|  (6,[0],[1.0])|(3,[0],[1.0])| (27,[5],[1.0])| (1526,[217],[1.0])|\n",
            "|      F|          1|        3|         SE|       457|            940|NOSSA SENHORA DA ...| 11|587|            0.0|                1.0|              2.0|               13.0|               240.0|(2,[0],[1.0])|  (6,[1],[1.0])|(3,[2],[1.0])|(27,[13],[1.0])| (1526,[240],[1.0])|\n",
            "|      F|          3|        1|         SP|       536|            640|       CARAGUATATUBA| 17|759|            0.0|                0.0|              0.0|                0.0|               556.0|(2,[0],[1.0])|  (6,[0],[1.0])|(3,[0],[1.0])| (27,[0],[1.0])| (1526,[556],[1.0])|\n",
            "|      F|          3|        1|         PE|       463|              0|             CARPINA| 20|680|            0.0|                0.0|              0.0|                5.0|               271.0|(2,[0],[1.0])|  (6,[0],[1.0])|(3,[0],[1.0])| (27,[5],[1.0])| (1526,[271],[1.0])|\n",
            "|      F|          1|        1|         RJ|       343|            640|             ITAGUAÍ| 22|715|            0.0|                1.0|              0.0|                3.0|               340.0|(2,[0],[1.0])|  (6,[1],[1.0])|(3,[0],[1.0])| (27,[3],[1.0])| (1526,[340],[1.0])|\n",
            "|      M|          3|        1|         CE|       625|            760|           FORTALEZA| 23|754|            1.0|                0.0|              0.0|                1.0|                 2.0|(2,[1],[1.0])|  (6,[0],[1.0])|(3,[0],[1.0])| (27,[1],[1.0])|   (1526,[2],[1.0])|\n",
            "|      M|          3|        1|         BA|       383|            520|CAMPO ALEGRE DE L...| 25|557|            1.0|                0.0|              0.0|                2.0|              1406.0|(2,[1],[1.0])|  (6,[0],[1.0])|(3,[0],[1.0])| (27,[2],[1.0])|(1526,[1406],[1.0])|\n",
            "|      M|          2|        1|         BA|       573|            640|            SERRINHA| 27|592|            1.0|                2.0|              0.0|                2.0|               164.0|(2,[1],[1.0])|  (6,[2],[1.0])|(3,[0],[1.0])| (27,[2],[1.0])| (1526,[164],[1.0])|\n",
            "|      F|          5|        1|         PE|       615|            300|             CABROBÓ| 29|623|            0.0|                5.0|              0.0|                5.0|               543.0|(2,[0],[1.0])|  (6,[5],[1.0])|(3,[0],[1.0])| (27,[5],[1.0])| (1526,[543],[1.0])|\n",
            "|      F|          3|        1|         AM|       745|            640|          MANACAPURU| 30|614|            0.0|                0.0|              0.0|               16.0|               443.0|(2,[0],[1.0])|  (6,[0],[1.0])|(3,[0],[1.0])|(27,[16],[1.0])| (1526,[443],[1.0])|\n",
            "|      M|          1|        1|         RS|       352|            360|             ERECHIM| 31|776|            1.0|                1.0|              0.0|                7.0|               227.0|(2,[1],[1.0])|  (6,[1],[1.0])|(3,[0],[1.0])| (27,[7],[1.0])| (1526,[227],[1.0])|\n",
            "|      F|          1|        1|         RS|       536|            760|        PORTO ALEGRE| 33|805|            0.0|                1.0|              0.0|                7.0|                17.0|(2,[0],[1.0])|  (6,[1],[1.0])|(3,[0],[1.0])| (27,[7],[1.0])|  (1526,[17],[1.0])|\n",
            "|      F|          3|        1|         MA|       446|            540|            SÃO LUÍS| 36|768|            0.0|                0.0|              0.0|                6.0|                 8.0|(2,[0],[1.0])|  (6,[0],[1.0])|(3,[0],[1.0])| (27,[6],[1.0])|   (1526,[8],[1.0])|\n",
            "|      F|          3|        1|         AM|       475|            360|              MANAUS| 37|737|            0.0|                0.0|              0.0|               16.0|                 7.0|(2,[0],[1.0])|  (6,[0],[1.0])|(3,[0],[1.0])|(27,[16],[1.0])|   (1526,[7],[1.0])|\n",
            "|      F|          3|        1|         PE|       409|            420|              RECIFE| 38|772|            0.0|                0.0|              0.0|                5.0|                 6.0|(2,[0],[1.0])|  (6,[0],[1.0])|(3,[0],[1.0])| (27,[5],[1.0])|   (1526,[6],[1.0])|\n",
            "|      F|          1|        1|         SP|       568|            460|  SÃO MIGUEL ARCANJO| 39|710|            0.0|                1.0|              0.0|                0.0|              1398.0|(2,[0],[1.0])|  (6,[1],[1.0])|(3,[0],[1.0])| (27,[0],[1.0])|(1526,[1398],[1.0])|\n",
            "|      F|          3|        2|         CE|       430|            560|             ARACATI| 40|655|            0.0|                0.0|              1.0|                1.0|               156.0|(2,[0],[1.0])|  (6,[0],[1.0])|(3,[1],[1.0])| (27,[1],[1.0])| (1526,[156],[1.0])|\n",
            "+-------+-----------+---------+-----------+----------+---------------+--------------------+---+---+---------------+-------------------+-----------------+-------------------+--------------------+-------------+---------------+-------------+---------------+-------------------+\n",
            "only showing top 20 rows\n",
            "\n"
          ]
        }
      ]
    },
    {
      "cell_type": "markdown",
      "source": [
        "## **Montando o vetor de features**"
      ],
      "metadata": {
        "id": "YHLYgnjkQZvf"
      }
    },
    {
      "cell_type": "code",
      "source": [
        "assembler = VectorAssembler(inputCols=[\"TP_SEXO_VEC\", \"TP_COR_RACA_VEC\", \"TP_ESCOLA_VEC\", \"SG_UF_PROVA_VEC\", \"NU_NOTA_MT\", \"NU_NOTA_REDACAO\", \"NO_MUNICIPIO_VEC\", \"IDH\"], outputCol=\"features\")\n",
        "df_features = assembler.transform(df)"
      ],
      "metadata": {
        "id": "ee7phYrDQh2v"
      },
      "execution_count": 37,
      "outputs": []
    },
    {
      "cell_type": "code",
      "source": [
        "### Visualização do resultado das 'features'\n",
        "df_features.select(df_features.features).show(20, False)"
      ],
      "metadata": {
        "colab": {
          "base_uri": "https://localhost:8080/"
        },
        "id": "uBawMD4OSMxo",
        "outputId": "f5d89b94-ecd1-4689-8111-2b0777e08504"
      },
      "execution_count": 38,
      "outputs": [
        {
          "output_type": "stream",
          "name": "stdout",
          "text": [
            "+-------------------------------------------------------------------------+\n",
            "|features                                                                 |\n",
            "+-------------------------------------------------------------------------+\n",
            "|(1567,[0,4,8,13,38,39,967,1566],[1.0,1.0,1.0,1.0,565.0,760.0,1.0,559.0]) |\n",
            "|(1567,[1,2,8,28,38,39,132,1566],[1.0,1.0,1.0,1.0,416.0,320.0,1.0,718.0]) |\n",
            "|(1567,[0,4,8,14,38,39,66,1566],[1.0,1.0,1.0,1.0,405.0,440.0,1.0,739.0])  |\n",
            "|(1567,[0,2,8,16,38,39,257,1566],[1.0,1.0,1.0,1.0,435.0,360.0,1.0,667.0]) |\n",
            "|(1567,[0,3,10,24,38,39,280,1566],[1.0,1.0,1.0,1.0,457.0,940.0,1.0,587.0])|\n",
            "|(1567,[0,2,8,11,38,39,596,1566],[1.0,1.0,1.0,1.0,536.0,640.0,1.0,759.0]) |\n",
            "|(1567,[0,2,8,16,38,311,1566],[1.0,1.0,1.0,1.0,463.0,1.0,680.0])          |\n",
            "|(1567,[0,3,8,14,38,39,380,1566],[1.0,1.0,1.0,1.0,343.0,640.0,1.0,715.0]) |\n",
            "|(1567,[1,2,8,12,38,39,42,1566],[1.0,1.0,1.0,1.0,625.0,760.0,1.0,754.0])  |\n",
            "|(1567,[1,2,8,13,38,39,1446,1566],[1.0,1.0,1.0,1.0,383.0,520.0,1.0,557.0])|\n",
            "|(1567,[1,4,8,13,38,39,204,1566],[1.0,1.0,1.0,1.0,573.0,640.0,1.0,592.0]) |\n",
            "|(1567,[0,7,8,16,38,39,583,1566],[1.0,1.0,1.0,1.0,615.0,300.0,1.0,623.0]) |\n",
            "|(1567,[0,2,8,27,38,39,483,1566],[1.0,1.0,1.0,1.0,745.0,640.0,1.0,614.0]) |\n",
            "|(1567,[1,3,8,18,38,39,267,1566],[1.0,1.0,1.0,1.0,352.0,360.0,1.0,776.0]) |\n",
            "|(1567,[0,3,8,18,38,39,57,1566],[1.0,1.0,1.0,1.0,536.0,760.0,1.0,805.0])  |\n",
            "|(1567,[0,2,8,17,38,39,48,1566],[1.0,1.0,1.0,1.0,446.0,540.0,1.0,768.0])  |\n",
            "|(1567,[0,2,8,27,38,39,47,1566],[1.0,1.0,1.0,1.0,475.0,360.0,1.0,737.0])  |\n",
            "|(1567,[0,2,8,16,38,39,46,1566],[1.0,1.0,1.0,1.0,409.0,420.0,1.0,772.0])  |\n",
            "|(1567,[0,3,8,11,38,39,1438,1566],[1.0,1.0,1.0,1.0,568.0,460.0,1.0,710.0])|\n",
            "|(1567,[0,2,9,12,38,39,196,1566],[1.0,1.0,1.0,1.0,430.0,560.0,1.0,655.0]) |\n",
            "+-------------------------------------------------------------------------+\n",
            "only showing top 20 rows\n",
            "\n"
          ]
        }
      ]
    },
    {
      "cell_type": "markdown",
      "source": [
        "## **Executar o Modelo Não Supervisionado (Cluster) K-Means**"
      ],
      "metadata": {
        "id": "yuTgCwrQFV3W"
      }
    },
    {
      "cell_type": "code",
      "source": [
        "kmeans = KMeans().setK(2)\n",
        "modeloK = kmeans.fit(df_features)\n",
        "df_agrupado = modeloK.transform(df_features)\n",
        "df_agrupado.show(truncate=False)"
      ],
      "metadata": {
        "colab": {
          "base_uri": "https://localhost:8080/"
        },
        "id": "HfKK1TqhSj1a",
        "outputId": "460f2101-3af6-4102-a681-e7589993d67d"
      },
      "execution_count": 75,
      "outputs": [
        {
          "output_type": "stream",
          "name": "stdout",
          "text": [
            "+-------+-----------+---------+-----------+----------+---------------+-------------------------+---+---+---------------+-------------------+-----------------+-------------------+--------------------+-------------+---------------+-------------+---------------+-------------------+-------------------------------------------------------------------------+----------+\n",
            "|TP_SEXO|TP_COR_RACA|TP_ESCOLA|SG_UF_PROVA|NU_NOTA_MT|NU_NOTA_REDACAO|NO_MUNICIPIO             |id |IDH|INDEXED_TP_SEXO|INDEXED_TP_COR_RACA|INDEXED_TP_ESCOLA|INDEXED_SG_UF_PROVA|INDEXED_NO_MUNICIPIO|TP_SEXO_VEC  |TP_COR_RACA_VEC|TP_ESCOLA_VEC|SG_UF_PROVA_VEC|NO_MUNICIPIO_VEC   |features                                                                 |prediction|\n",
            "+-------+-----------+---------+-----------+----------+---------------+-------------------------+---+---+---------------+-------------------+-----------------+-------------------+--------------------+-------------+---------------+-------------+---------------+-------------------+-------------------------------------------------------------------------+----------+\n",
            "|F      |2          |1        |BA         |565       |760            |PRESIDENTE TANCREDO NEVES|2  |559|0.0            |2.0                |0.0              |2.0                |927.0               |(2,[0],[1.0])|(6,[2],[1.0])  |(3,[0],[1.0])|(27,[2],[1.0]) |(1526,[927],[1.0]) |(1567,[0,4,8,13,38,39,967,1566],[1.0,1.0,1.0,1.0,565.0,760.0,1.0,559.0]) |1         |\n",
            "|M      |3          |1        |ES         |416       |320            |CARIACICA                |3  |718|1.0            |0.0                |0.0              |17.0               |92.0                |(2,[1],[1.0])|(6,[0],[1.0])  |(3,[0],[1.0])|(27,[17],[1.0])|(1526,[92],[1.0])  |(1567,[1,2,8,28,38,39,132,1566],[1.0,1.0,1.0,1.0,416.0,320.0,1.0,718.0]) |0         |\n",
            "|F      |2          |1        |RJ         |405       |440            |SÃO GONÇALO              |7  |739|0.0            |2.0                |0.0              |3.0                |26.0                |(2,[0],[1.0])|(6,[2],[1.0])  |(3,[0],[1.0])|(27,[3],[1.0]) |(1526,[26],[1.0])  |(1567,[0,4,8,14,38,39,66,1566],[1.0,1.0,1.0,1.0,405.0,440.0,1.0,739.0])  |0         |\n",
            "|F      |3          |1        |PE         |435       |360            |ARCOVERDE                |9  |667|0.0            |0.0                |0.0              |5.0                |217.0               |(2,[0],[1.0])|(6,[0],[1.0])  |(3,[0],[1.0])|(27,[5],[1.0]) |(1526,[217],[1.0]) |(1567,[0,2,8,16,38,39,257,1566],[1.0,1.0,1.0,1.0,435.0,360.0,1.0,667.0]) |0         |\n",
            "|F      |1          |3        |SE         |457       |940            |NOSSA SENHORA DA GLÓRIA  |11 |587|0.0            |1.0                |2.0              |13.0               |240.0               |(2,[0],[1.0])|(6,[1],[1.0])  |(3,[2],[1.0])|(27,[13],[1.0])|(1526,[240],[1.0]) |(1567,[0,3,10,24,38,39,280,1566],[1.0,1.0,1.0,1.0,457.0,940.0,1.0,587.0])|1         |\n",
            "|F      |3          |1        |SP         |536       |640            |CARAGUATATUBA            |17 |759|0.0            |0.0                |0.0              |0.0                |556.0               |(2,[0],[1.0])|(6,[0],[1.0])  |(3,[0],[1.0])|(27,[0],[1.0]) |(1526,[556],[1.0]) |(1567,[0,2,8,11,38,39,596,1566],[1.0,1.0,1.0,1.0,536.0,640.0,1.0,759.0]) |1         |\n",
            "|F      |3          |1        |PE         |463       |0              |CARPINA                  |20 |680|0.0            |0.0                |0.0              |5.0                |271.0               |(2,[0],[1.0])|(6,[0],[1.0])  |(3,[0],[1.0])|(27,[5],[1.0]) |(1526,[271],[1.0]) |(1567,[0,2,8,16,38,311,1566],[1.0,1.0,1.0,1.0,463.0,1.0,680.0])          |0         |\n",
            "|F      |1          |1        |RJ         |343       |640            |ITAGUAÍ                  |22 |715|0.0            |1.0                |0.0              |3.0                |340.0               |(2,[0],[1.0])|(6,[1],[1.0])  |(3,[0],[1.0])|(27,[3],[1.0]) |(1526,[340],[1.0]) |(1567,[0,3,8,14,38,39,380,1566],[1.0,1.0,1.0,1.0,343.0,640.0,1.0,715.0]) |0         |\n",
            "|M      |3          |1        |CE         |625       |760            |FORTALEZA                |23 |754|1.0            |0.0                |0.0              |1.0                |2.0                 |(2,[1],[1.0])|(6,[0],[1.0])  |(3,[0],[1.0])|(27,[1],[1.0]) |(1526,[2],[1.0])   |(1567,[1,2,8,12,38,39,42,1566],[1.0,1.0,1.0,1.0,625.0,760.0,1.0,754.0])  |1         |\n",
            "|M      |3          |1        |BA         |383       |520            |CAMPO ALEGRE DE LOURDES  |25 |557|1.0            |0.0                |0.0              |2.0                |1406.0              |(2,[1],[1.0])|(6,[0],[1.0])  |(3,[0],[1.0])|(27,[2],[1.0]) |(1526,[1406],[1.0])|(1567,[1,2,8,13,38,39,1446,1566],[1.0,1.0,1.0,1.0,383.0,520.0,1.0,557.0])|0         |\n",
            "|M      |2          |1        |BA         |573       |640            |SERRINHA                 |27 |592|1.0            |2.0                |0.0              |2.0                |164.0               |(2,[1],[1.0])|(6,[2],[1.0])  |(3,[0],[1.0])|(27,[2],[1.0]) |(1526,[164],[1.0]) |(1567,[1,4,8,13,38,39,204,1566],[1.0,1.0,1.0,1.0,573.0,640.0,1.0,592.0]) |1         |\n",
            "|F      |5          |1        |PE         |615       |300            |CABROBÓ                  |29 |623|0.0            |5.0                |0.0              |5.0                |543.0               |(2,[0],[1.0])|(6,[5],[1.0])  |(3,[0],[1.0])|(27,[5],[1.0]) |(1526,[543],[1.0]) |(1567,[0,7,8,16,38,39,583,1566],[1.0,1.0,1.0,1.0,615.0,300.0,1.0,623.0]) |0         |\n",
            "|F      |3          |1        |AM         |745       |640            |MANACAPURU               |30 |614|0.0            |0.0                |0.0              |16.0               |443.0               |(2,[0],[1.0])|(6,[0],[1.0])  |(3,[0],[1.0])|(27,[16],[1.0])|(1526,[443],[1.0]) |(1567,[0,2,8,27,38,39,483,1566],[1.0,1.0,1.0,1.0,745.0,640.0,1.0,614.0]) |1         |\n",
            "|M      |1          |1        |RS         |352       |360            |ERECHIM                  |31 |776|1.0            |1.0                |0.0              |7.0                |227.0               |(2,[1],[1.0])|(6,[1],[1.0])  |(3,[0],[1.0])|(27,[7],[1.0]) |(1526,[227],[1.0]) |(1567,[1,3,8,18,38,39,267,1566],[1.0,1.0,1.0,1.0,352.0,360.0,1.0,776.0]) |0         |\n",
            "|F      |1          |1        |RS         |536       |760            |PORTO ALEGRE             |33 |805|0.0            |1.0                |0.0              |7.0                |17.0                |(2,[0],[1.0])|(6,[1],[1.0])  |(3,[0],[1.0])|(27,[7],[1.0]) |(1526,[17],[1.0])  |(1567,[0,3,8,18,38,39,57,1566],[1.0,1.0,1.0,1.0,536.0,760.0,1.0,805.0])  |1         |\n",
            "|F      |3          |1        |MA         |446       |540            |SÃO LUÍS                 |36 |768|0.0            |0.0                |0.0              |6.0                |8.0                 |(2,[0],[1.0])|(6,[0],[1.0])  |(3,[0],[1.0])|(27,[6],[1.0]) |(1526,[8],[1.0])   |(1567,[0,2,8,17,38,39,48,1566],[1.0,1.0,1.0,1.0,446.0,540.0,1.0,768.0])  |0         |\n",
            "|F      |3          |1        |AM         |475       |360            |MANAUS                   |37 |737|0.0            |0.0                |0.0              |16.0               |7.0                 |(2,[0],[1.0])|(6,[0],[1.0])  |(3,[0],[1.0])|(27,[16],[1.0])|(1526,[7],[1.0])   |(1567,[0,2,8,27,38,39,47,1566],[1.0,1.0,1.0,1.0,475.0,360.0,1.0,737.0])  |0         |\n",
            "|F      |3          |1        |PE         |409       |420            |RECIFE                   |38 |772|0.0            |0.0                |0.0              |5.0                |6.0                 |(2,[0],[1.0])|(6,[0],[1.0])  |(3,[0],[1.0])|(27,[5],[1.0]) |(1526,[6],[1.0])   |(1567,[0,2,8,16,38,39,46,1566],[1.0,1.0,1.0,1.0,409.0,420.0,1.0,772.0])  |0         |\n",
            "|F      |1          |1        |SP         |568       |460            |SÃO MIGUEL ARCANJO       |39 |710|0.0            |1.0                |0.0              |0.0                |1398.0              |(2,[0],[1.0])|(6,[1],[1.0])  |(3,[0],[1.0])|(27,[0],[1.0]) |(1526,[1398],[1.0])|(1567,[0,3,8,11,38,39,1438,1566],[1.0,1.0,1.0,1.0,568.0,460.0,1.0,710.0])|0         |\n",
            "|F      |3          |2        |CE         |430       |560            |ARACATI                  |40 |655|0.0            |0.0                |1.0              |1.0                |156.0               |(2,[0],[1.0])|(6,[0],[1.0])  |(3,[1],[1.0])|(27,[1],[1.0]) |(1526,[156],[1.0]) |(1567,[0,2,9,12,38,39,196,1566],[1.0,1.0,1.0,1.0,430.0,560.0,1.0,655.0]) |0         |\n",
            "+-------+-----------+---------+-----------+----------+---------------+-------------------------+---+---+---------------+-------------------+-----------------+-------------------+--------------------+-------------+---------------+-------------+---------------+-------------------+-------------------------------------------------------------------------+----------+\n",
            "only showing top 20 rows\n",
            "\n"
          ]
        }
      ]
    },
    {
      "cell_type": "markdown",
      "source": [
        "**Avaliando o Modelo**"
      ],
      "metadata": {
        "id": "NP9I26y7ktfu"
      }
    },
    {
      "cell_type": "markdown",
      "source": [
        "Faixa de valor da silhueta\n",
        "\n",
        "S (i) ficará entre [-1, 1]\n",
        "\n",
        "- Se o valor da silhueta for próximo a 1, a amostra está bem agrupada e já atribuída a um agrupamento muito apropriado.\n",
        "- Se o valor da silhueta for cerca de 0, a amostra pode ser atribuída a outro cluster mais próximo a ele e a amostra fica igualmente longe de ambos os clusters. Isso significa que indica clusters sobrepostos\n",
        "- Se o valor da silhueta estiver próximo a -1, a amostra foi classificada incorretamente e foi simplesmente colocada em algum lugar entre os clusters."
      ],
      "metadata": {
        "id": "uGLbQ3-mlVAU"
      }
    },
    {
      "cell_type": "code",
      "source": [
        "### 02 Clusters\n",
        "evaluator = ClusteringEvaluator()\n",
        "silhouette = evaluator.evaluate(df_agrupado)\n",
        "print(\"Silhouette (02 clusters) com distância euclidiana quadrada = \" + str(silhouette))"
      ],
      "metadata": {
        "colab": {
          "base_uri": "https://localhost:8080/"
        },
        "id": "sbalxcDgjAGp",
        "outputId": "70435766-3e2e-4203-d7f5-7fada518b9df"
      },
      "execution_count": 76,
      "outputs": [
        {
          "output_type": "stream",
          "name": "stdout",
          "text": [
            "Silhouette (02 clusters) com distância euclidiana quadrada = 0.5362025135669117\n"
          ]
        }
      ]
    },
    {
      "cell_type": "code",
      "source": [
        "### 03 Clusters\n",
        "kmeans = KMeans().setK(3)\n",
        "modeloK = kmeans.fit(df_features)\n",
        "df_agrupado = modeloK.transform(df_features)\n",
        "evaluator = ClusteringEvaluator()\n",
        "silhouette = evaluator.evaluate(df_agrupado)\n",
        "print(\"Silhouette (03 clusters) com distância euclidiana quadrada = \" + str(silhouette))"
      ],
      "metadata": {
        "colab": {
          "base_uri": "https://localhost:8080/"
        },
        "id": "9crR2BgLjDM8",
        "outputId": "157763c2-ca67-4675-9416-617b3495650c"
      },
      "execution_count": 77,
      "outputs": [
        {
          "output_type": "stream",
          "name": "stdout",
          "text": [
            "Silhouette (03 clusters) com distância euclidiana quadrada = 0.5835498141963934\n"
          ]
        }
      ]
    },
    {
      "cell_type": "code",
      "source": [
        "### 04 Clusters\n",
        "kmeans = KMeans().setK(4)\n",
        "modeloK = kmeans.fit(df_features)\n",
        "df_agrupado = modeloK.transform(df_features)\n",
        "evaluator = ClusteringEvaluator()\n",
        "silhouette = evaluator.evaluate(df_agrupado)\n",
        "print(\"Silhouette (04 clusters) com distância euclidiana quadrada = \" + str(silhouette))"
      ],
      "metadata": {
        "colab": {
          "base_uri": "https://localhost:8080/"
        },
        "id": "wkNZZnQyjR0A",
        "outputId": "0116c56b-d563-4181-ec8d-d47aff935d27"
      },
      "execution_count": 78,
      "outputs": [
        {
          "output_type": "stream",
          "name": "stdout",
          "text": [
            "Silhouette (04 clusters) com distância euclidiana quadrada = 0.44795353146406425\n"
          ]
        }
      ]
    },
    {
      "cell_type": "code",
      "source": [
        "### 05 Clusters\n",
        "kmeans = KMeans().setK(5)\n",
        "modeloK = kmeans.fit(df_features)\n",
        "df_agrupado = modeloK.transform(df_features)\n",
        "evaluator = ClusteringEvaluator()\n",
        "silhouette = evaluator.evaluate(df_agrupado)\n",
        "print(\"Silhouette (05 clusters) com distância euclidiana quadrada = \" + str(silhouette))"
      ],
      "metadata": {
        "colab": {
          "base_uri": "https://localhost:8080/"
        },
        "id": "Pj_xSAFOlQ5A",
        "outputId": "e0191b90-ab34-4804-e40b-8e8385aa67a0"
      },
      "execution_count": 79,
      "outputs": [
        {
          "output_type": "stream",
          "name": "stdout",
          "text": [
            "Silhouette (05 clusters) com distância euclidiana quadrada = 0.4541263496398444\n"
          ]
        }
      ]
    }
  ]
}