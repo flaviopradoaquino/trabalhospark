{
  "nbformat": 4,
  "nbformat_minor": 0,
  "metadata": {
    "colab": {
      "provenance": [],
      "authorship_tag": "ABX9TyM2iEDQ3qWt/RtwUR+SjxSD",
      "include_colab_link": true
    },
    "kernelspec": {
      "name": "python3",
      "display_name": "Python 3"
    },
    "language_info": {
      "name": "python"
    }
  },
  "cells": [
    {
      "cell_type": "markdown",
      "metadata": {
        "id": "view-in-github",
        "colab_type": "text"
      },
      "source": [
        "<a href=\"https://colab.research.google.com/github/flaviopradoaquino/trabalhospark/blob/main/trabalhospark_estatistica.ipynb\" target=\"_parent\"><img src=\"https://colab.research.google.com/assets/colab-badge.svg\" alt=\"Open In Colab\"/></a>"
      ]
    },
    {
      "cell_type": "markdown",
      "source": [
        "## **Instalação de Pacotes**"
      ],
      "metadata": {
        "id": "qo6xX-hVc8iV"
      }
    },
    {
      "cell_type": "code",
      "execution_count": 1,
      "metadata": {
        "colab": {
          "base_uri": "https://localhost:8080/"
        },
        "id": "LzYhk6C4L12E",
        "outputId": "fafd47d5-9b62-4b51-b246-34b53aab49f0"
      },
      "outputs": [
        {
          "output_type": "stream",
          "name": "stdout",
          "text": [
            "Collecting pyspark\n",
            "  Downloading pyspark-3.5.0.tar.gz (316.9 MB)\n",
            "\u001b[2K     \u001b[90m━━━━━━━━━━━━━━━━━━━━━━━━━━━━━━━━━━━━━━━\u001b[0m \u001b[32m316.9/316.9 MB\u001b[0m \u001b[31m2.6 MB/s\u001b[0m eta \u001b[36m0:00:00\u001b[0m\n",
            "\u001b[?25h  Preparing metadata (setup.py) ... \u001b[?25l\u001b[?25hdone\n",
            "Requirement already satisfied: py4j==0.10.9.7 in /usr/local/lib/python3.10/dist-packages (from pyspark) (0.10.9.7)\n",
            "Building wheels for collected packages: pyspark\n",
            "  Building wheel for pyspark (setup.py) ... \u001b[?25l\u001b[?25hdone\n",
            "  Created wheel for pyspark: filename=pyspark-3.5.0-py2.py3-none-any.whl size=317425344 sha256=9e8cdc2a5603f4e8912e77720a6fb769fa42040fe5a0801b3d7e2e4a2f5d9c62\n",
            "  Stored in directory: /root/.cache/pip/wheels/41/4e/10/c2cf2467f71c678cfc8a6b9ac9241e5e44a01940da8fbb17fc\n",
            "Successfully built pyspark\n",
            "Installing collected packages: pyspark\n",
            "Successfully installed pyspark-3.5.0\n"
          ]
        }
      ],
      "source": [
        "!pip install pyspark"
      ]
    },
    {
      "cell_type": "markdown",
      "source": [
        "## **Importação dos Pacotes**"
      ],
      "metadata": {
        "id": "F8ICuzc6dU4d"
      }
    },
    {
      "cell_type": "code",
      "source": [
        "import string\n",
        "from pyspark.sql import SparkSession\n",
        "from pyspark.sql.functions import count, desc , col, max, when, isnan\n",
        "from pyspark.sql.functions import upper, col\n",
        "from pyspark.sql import functions as sf\n",
        "from scipy.stats import pearsonr\n",
        "from scipy import stats\n",
        "import pandas as pd\n",
        "import numpy as np\n",
        "import matplotlib.pyplot as plt\n",
        "import plotly.express as px\n",
        "import seaborn as sns\n",
        "import statsmodels"
      ],
      "metadata": {
        "id": "IxLk5kQBM9fi"
      },
      "execution_count": 38,
      "outputs": []
    },
    {
      "cell_type": "markdown",
      "source": [
        "## **Inicia a sessão do Spark**"
      ],
      "metadata": {
        "id": "DrM0QEoodeF4"
      }
    },
    {
      "cell_type": "code",
      "source": [
        "spark = SparkSession.builder.appName(\"AtividadeFinal\").master('local[*]').getOrCreate()"
      ],
      "metadata": {
        "id": "VcYQed00NM5-"
      },
      "execution_count": 3,
      "outputs": []
    },
    {
      "cell_type": "markdown",
      "source": [
        "## **Carrega os arquivos CSVs e adicona o encode para permitir acentuação**"
      ],
      "metadata": {
        "id": "YlYsndHPds4H"
      }
    },
    {
      "cell_type": "code",
      "source": [
        "idh = \"/content/sample_data/idh_2010_tratado.csv\"\n",
        "enem = \"/content/sample_data/enem_2022_tratado.csv\""
      ],
      "metadata": {
        "id": "W2lz0T4JTmzr"
      },
      "execution_count": 4,
      "outputs": []
    },
    {
      "cell_type": "code",
      "source": [
        "df_i = spark.read.options(delimiter=\";\", header=True).option(\"encoding\", \"ISO-8859-1\").csv(idh)\n",
        "df_e = spark.read.options(delimiter=\";\", header=True).option(\"encoding\", \"ISO-8859-1\").csv(enem)"
      ],
      "metadata": {
        "id": "pyarFDvaTwTN"
      },
      "execution_count": 6,
      "outputs": []
    },
    {
      "cell_type": "markdown",
      "source": [
        "## **Montagem do Dataframe**"
      ],
      "metadata": {
        "id": "pvX7FVaneJ0E"
      }
    },
    {
      "cell_type": "code",
      "source": [
        "### Exclusão de campos que não serão usados\n",
        "df_i = df_i.drop(*('NM_FEDERACAO','IDHM'))"
      ],
      "metadata": {
        "id": "9IdGJzzapU3W"
      },
      "execution_count": 8,
      "outputs": []
    },
    {
      "cell_type": "code",
      "source": [
        "### Exclusão dos registros de municípios duplicados\n",
        "df_i = df_i.dropDuplicates(['NM_MUNICIPIO'])"
      ],
      "metadata": {
        "id": "xk_X034Xp2bB"
      },
      "execution_count": 10,
      "outputs": []
    },
    {
      "cell_type": "code",
      "source": [
        "### Colocar emletras maiúsculas o campo 'Municípios' do Dataframe Enem\n",
        "df_e = df_e.withColumn(\"NO_MUNICIPIO\", upper(df_e.NO_MUNICIPIO_PROVA))\n",
        "\n",
        "### Atriubuir um identificador único para cada registro do Dataframe Enem\n",
        "df_e = df_e.select(\"*\").withColumn(\"id\", sf.monotonically_increasing_id())\n",
        "\n",
        "### Exclusão dos campos que não serão usados\n",
        "df_e = df_e.drop(*('NU_INSCRICAO', 'CO_MUNICIPIO_PROVA', 'NO_MUNICIPIO_PROVA', 'IN_TREINEIRO'))"
      ],
      "metadata": {
        "id": "u9kxLO93exhs"
      },
      "execution_count": 12,
      "outputs": []
    },
    {
      "cell_type": "code",
      "source": [
        "### Join dos Datafrmaes IDH e Enem pelo Município\n",
        "df = df_e.join(df_i, df_e.NO_MUNICIPIO == df_i.NM_MUNICIPIO, \"left\" )\n",
        "df = df.drop('NM_MUNICIPIO')"
      ],
      "metadata": {
        "id": "8-_LNrLAWwsv"
      },
      "execution_count": 14,
      "outputs": []
    },
    {
      "cell_type": "code",
      "source": [
        "### Exclusão dos registros nulos de notas de Matemática e Redação\n",
        "df = df.na.drop(how=\"any\")"
      ],
      "metadata": {
        "id": "l_n5-QyfqwOH"
      },
      "execution_count": 16,
      "outputs": []
    },
    {
      "cell_type": "code",
      "source": [
        "df.show()"
      ],
      "metadata": {
        "colab": {
          "base_uri": "https://localhost:8080/"
        },
        "id": "tMS4CLebq_un",
        "outputId": "61416d1e-f83c-4995-97b6-fc20681471bc"
      },
      "execution_count": 17,
      "outputs": [
        {
          "output_type": "stream",
          "name": "stdout",
          "text": [
            "+-------+-----------+---------+-----------+----------+---------------+--------------------+---+---+\n",
            "|TP_SEXO|TP_COR_RACA|TP_ESCOLA|SG_UF_PROVA|NU_NOTA_MT|NU_NOTA_REDACAO|        NO_MUNICIPIO| id|IDH|\n",
            "+-------+-----------+---------+-----------+----------+---------------+--------------------+---+---+\n",
            "|      F|          2|        1|         BA|       565|            760|PRESIDENTE TANCRE...|  2|559|\n",
            "|      M|          3|        1|         ES|       416|            320|           CARIACICA|  3|718|\n",
            "|      F|          2|        1|         RJ|       405|            440|         SÃO GONÇALO|  7|739|\n",
            "|      F|          3|        1|         PE|       435|            360|           ARCOVERDE|  9|667|\n",
            "|      F|          1|        3|         SE|       457|            940|NOSSA SENHORA DA ...| 11|587|\n",
            "|      F|          3|        1|         SP|       536|            640|       CARAGUATATUBA| 17|759|\n",
            "|      F|          3|        1|         PE|       463|              0|             CARPINA| 20|680|\n",
            "|      F|          1|        1|         RJ|       343|            640|             ITAGUAÍ| 22|715|\n",
            "|      M|          3|        1|         CE|       625|            760|           FORTALEZA| 23|754|\n",
            "|      M|          3|        1|         BA|       383|            520|CAMPO ALEGRE DE L...| 25|557|\n",
            "|      M|          2|        1|         BA|       573|            640|            SERRINHA| 27|592|\n",
            "|      F|          5|        1|         PE|       615|            300|             CABROBÓ| 29|623|\n",
            "|      F|          3|        1|         AM|       745|            640|          MANACAPURU| 30|614|\n",
            "|      M|          1|        1|         RS|       352|            360|             ERECHIM| 31|776|\n",
            "|      F|          1|        1|         RS|       536|            760|        PORTO ALEGRE| 33|805|\n",
            "|      F|          3|        1|         MA|       446|            540|            SÃO LUÍS| 36|768|\n",
            "|      F|          3|        1|         AM|       475|            360|              MANAUS| 37|737|\n",
            "|      F|          3|        1|         PE|       409|            420|              RECIFE| 38|772|\n",
            "|      F|          1|        1|         SP|       568|            460|  SÃO MIGUEL ARCANJO| 39|710|\n",
            "|      F|          3|        2|         CE|       430|            560|             ARACATI| 40|655|\n",
            "+-------+-----------+---------+-----------+----------+---------------+--------------------+---+---+\n",
            "only showing top 20 rows\n",
            "\n"
          ]
        }
      ]
    },
    {
      "cell_type": "code",
      "source": [
        "### Correção do tipo de dados para campos quantitativos\n",
        "df = df.withColumn(\"NU_NOTA_MT\",df.NU_NOTA_MT.cast('int'))\n",
        "df = df.withColumn(\"NU_NOTA_REDACAO\",df.NU_NOTA_REDACAO.cast('int'))\n",
        "df = df.withColumn(\"IDH\",df.IDH.cast('int'))"
      ],
      "metadata": {
        "id": "OD-k7e1htSQq"
      },
      "execution_count": 19,
      "outputs": []
    },
    {
      "cell_type": "code",
      "source": [
        "df.printSchema()"
      ],
      "metadata": {
        "colab": {
          "base_uri": "https://localhost:8080/"
        },
        "id": "_PiqAD0YtjyA",
        "outputId": "8e39d06e-ec8d-4db5-c650-aa2e583bbdf6"
      },
      "execution_count": 20,
      "outputs": [
        {
          "output_type": "stream",
          "name": "stdout",
          "text": [
            "root\n",
            " |-- TP_SEXO: string (nullable = true)\n",
            " |-- TP_COR_RACA: string (nullable = true)\n",
            " |-- TP_ESCOLA: string (nullable = true)\n",
            " |-- SG_UF_PROVA: string (nullable = true)\n",
            " |-- NU_NOTA_MT: integer (nullable = true)\n",
            " |-- NU_NOTA_REDACAO: integer (nullable = true)\n",
            " |-- NO_MUNICIPIO: string (nullable = true)\n",
            " |-- id: long (nullable = false)\n",
            " |-- IDH: integer (nullable = true)\n",
            "\n"
          ]
        }
      ]
    },
    {
      "cell_type": "markdown",
      "source": [
        "## **Análise Estatística**"
      ],
      "metadata": {
        "id": "sVgTSbq9wWCW"
      }
    },
    {
      "cell_type": "code",
      "source": [
        "### Convertendo Dataframe Pyspark para Pandas\n",
        "df_p = df.toPandas()"
      ],
      "metadata": {
        "id": "FdsE_dVesByH"
      },
      "execution_count": 21,
      "outputs": []
    },
    {
      "cell_type": "code",
      "source": [
        "df_p"
      ],
      "metadata": {
        "colab": {
          "base_uri": "https://localhost:8080/",
          "height": 424
        },
        "id": "MQQDNaXjscGo",
        "outputId": "32d49c86-1358-49f4-c732-63f23149a2ce"
      },
      "execution_count": 22,
      "outputs": [
        {
          "output_type": "execute_result",
          "data": {
            "text/plain": [
              "       TP_SEXO TP_COR_RACA TP_ESCOLA SG_UF_PROVA  NU_NOTA_MT  NU_NOTA_REDACAO  \\\n",
              "0            F           2         1          BA         565              760   \n",
              "1            M           3         1          ES         416              320   \n",
              "2            F           2         1          RJ         405              440   \n",
              "3            F           3         1          PE         435              360   \n",
              "4            F           1         3          SE         457              940   \n",
              "...        ...         ...       ...         ...         ...              ...   \n",
              "685947       F           3         2          PR         499              780   \n",
              "685948       M           1         1          RJ         517              800   \n",
              "685949       F           3         1          PA         469              760   \n",
              "685950       M           1         2          SC         579              560   \n",
              "685951       M           1         1          BA         686              820   \n",
              "\n",
              "                     NO_MUNICIPIO          id  IDH  \n",
              "0       PRESIDENTE TANCREDO NEVES           2  559  \n",
              "1                       CARIACICA           3  718  \n",
              "2                     SÃO GONÇALO           7  739  \n",
              "3                       ARCOVERDE           9  667  \n",
              "4         NOSSA SENHORA DA GLÓRIA          11  587  \n",
              "...                           ...         ...  ...  \n",
              "685947                   COLORADO  8590413608  730  \n",
              "685948             RIO DE JANEIRO  8590413609  799  \n",
              "685949                  BARCARENA  8590413610  662  \n",
              "685950                    ITAPEMA  8590413611  796  \n",
              "685951                   JUAZEIRO  8590413613  677  \n",
              "\n",
              "[685952 rows x 9 columns]"
            ],
            "text/html": [
              "\n",
              "  <div id=\"df-db09b45f-5a57-4d0e-8499-dab4b59794b9\" class=\"colab-df-container\">\n",
              "    <div>\n",
              "<style scoped>\n",
              "    .dataframe tbody tr th:only-of-type {\n",
              "        vertical-align: middle;\n",
              "    }\n",
              "\n",
              "    .dataframe tbody tr th {\n",
              "        vertical-align: top;\n",
              "    }\n",
              "\n",
              "    .dataframe thead th {\n",
              "        text-align: right;\n",
              "    }\n",
              "</style>\n",
              "<table border=\"1\" class=\"dataframe\">\n",
              "  <thead>\n",
              "    <tr style=\"text-align: right;\">\n",
              "      <th></th>\n",
              "      <th>TP_SEXO</th>\n",
              "      <th>TP_COR_RACA</th>\n",
              "      <th>TP_ESCOLA</th>\n",
              "      <th>SG_UF_PROVA</th>\n",
              "      <th>NU_NOTA_MT</th>\n",
              "      <th>NU_NOTA_REDACAO</th>\n",
              "      <th>NO_MUNICIPIO</th>\n",
              "      <th>id</th>\n",
              "      <th>IDH</th>\n",
              "    </tr>\n",
              "  </thead>\n",
              "  <tbody>\n",
              "    <tr>\n",
              "      <th>0</th>\n",
              "      <td>F</td>\n",
              "      <td>2</td>\n",
              "      <td>1</td>\n",
              "      <td>BA</td>\n",
              "      <td>565</td>\n",
              "      <td>760</td>\n",
              "      <td>PRESIDENTE TANCREDO NEVES</td>\n",
              "      <td>2</td>\n",
              "      <td>559</td>\n",
              "    </tr>\n",
              "    <tr>\n",
              "      <th>1</th>\n",
              "      <td>M</td>\n",
              "      <td>3</td>\n",
              "      <td>1</td>\n",
              "      <td>ES</td>\n",
              "      <td>416</td>\n",
              "      <td>320</td>\n",
              "      <td>CARIACICA</td>\n",
              "      <td>3</td>\n",
              "      <td>718</td>\n",
              "    </tr>\n",
              "    <tr>\n",
              "      <th>2</th>\n",
              "      <td>F</td>\n",
              "      <td>2</td>\n",
              "      <td>1</td>\n",
              "      <td>RJ</td>\n",
              "      <td>405</td>\n",
              "      <td>440</td>\n",
              "      <td>SÃO GONÇALO</td>\n",
              "      <td>7</td>\n",
              "      <td>739</td>\n",
              "    </tr>\n",
              "    <tr>\n",
              "      <th>3</th>\n",
              "      <td>F</td>\n",
              "      <td>3</td>\n",
              "      <td>1</td>\n",
              "      <td>PE</td>\n",
              "      <td>435</td>\n",
              "      <td>360</td>\n",
              "      <td>ARCOVERDE</td>\n",
              "      <td>9</td>\n",
              "      <td>667</td>\n",
              "    </tr>\n",
              "    <tr>\n",
              "      <th>4</th>\n",
              "      <td>F</td>\n",
              "      <td>1</td>\n",
              "      <td>3</td>\n",
              "      <td>SE</td>\n",
              "      <td>457</td>\n",
              "      <td>940</td>\n",
              "      <td>NOSSA SENHORA DA GLÓRIA</td>\n",
              "      <td>11</td>\n",
              "      <td>587</td>\n",
              "    </tr>\n",
              "    <tr>\n",
              "      <th>...</th>\n",
              "      <td>...</td>\n",
              "      <td>...</td>\n",
              "      <td>...</td>\n",
              "      <td>...</td>\n",
              "      <td>...</td>\n",
              "      <td>...</td>\n",
              "      <td>...</td>\n",
              "      <td>...</td>\n",
              "      <td>...</td>\n",
              "    </tr>\n",
              "    <tr>\n",
              "      <th>685947</th>\n",
              "      <td>F</td>\n",
              "      <td>3</td>\n",
              "      <td>2</td>\n",
              "      <td>PR</td>\n",
              "      <td>499</td>\n",
              "      <td>780</td>\n",
              "      <td>COLORADO</td>\n",
              "      <td>8590413608</td>\n",
              "      <td>730</td>\n",
              "    </tr>\n",
              "    <tr>\n",
              "      <th>685948</th>\n",
              "      <td>M</td>\n",
              "      <td>1</td>\n",
              "      <td>1</td>\n",
              "      <td>RJ</td>\n",
              "      <td>517</td>\n",
              "      <td>800</td>\n",
              "      <td>RIO DE JANEIRO</td>\n",
              "      <td>8590413609</td>\n",
              "      <td>799</td>\n",
              "    </tr>\n",
              "    <tr>\n",
              "      <th>685949</th>\n",
              "      <td>F</td>\n",
              "      <td>3</td>\n",
              "      <td>1</td>\n",
              "      <td>PA</td>\n",
              "      <td>469</td>\n",
              "      <td>760</td>\n",
              "      <td>BARCARENA</td>\n",
              "      <td>8590413610</td>\n",
              "      <td>662</td>\n",
              "    </tr>\n",
              "    <tr>\n",
              "      <th>685950</th>\n",
              "      <td>M</td>\n",
              "      <td>1</td>\n",
              "      <td>2</td>\n",
              "      <td>SC</td>\n",
              "      <td>579</td>\n",
              "      <td>560</td>\n",
              "      <td>ITAPEMA</td>\n",
              "      <td>8590413611</td>\n",
              "      <td>796</td>\n",
              "    </tr>\n",
              "    <tr>\n",
              "      <th>685951</th>\n",
              "      <td>M</td>\n",
              "      <td>1</td>\n",
              "      <td>1</td>\n",
              "      <td>BA</td>\n",
              "      <td>686</td>\n",
              "      <td>820</td>\n",
              "      <td>JUAZEIRO</td>\n",
              "      <td>8590413613</td>\n",
              "      <td>677</td>\n",
              "    </tr>\n",
              "  </tbody>\n",
              "</table>\n",
              "<p>685952 rows × 9 columns</p>\n",
              "</div>\n",
              "    <div class=\"colab-df-buttons\">\n",
              "\n",
              "  <div class=\"colab-df-container\">\n",
              "    <button class=\"colab-df-convert\" onclick=\"convertToInteractive('df-db09b45f-5a57-4d0e-8499-dab4b59794b9')\"\n",
              "            title=\"Convert this dataframe to an interactive table.\"\n",
              "            style=\"display:none;\">\n",
              "\n",
              "  <svg xmlns=\"http://www.w3.org/2000/svg\" height=\"24px\" viewBox=\"0 -960 960 960\">\n",
              "    <path d=\"M120-120v-720h720v720H120Zm60-500h600v-160H180v160Zm220 220h160v-160H400v160Zm0 220h160v-160H400v160ZM180-400h160v-160H180v160Zm440 0h160v-160H620v160ZM180-180h160v-160H180v160Zm440 0h160v-160H620v160Z\"/>\n",
              "  </svg>\n",
              "    </button>\n",
              "\n",
              "  <style>\n",
              "    .colab-df-container {\n",
              "      display:flex;\n",
              "      gap: 12px;\n",
              "    }\n",
              "\n",
              "    .colab-df-convert {\n",
              "      background-color: #E8F0FE;\n",
              "      border: none;\n",
              "      border-radius: 50%;\n",
              "      cursor: pointer;\n",
              "      display: none;\n",
              "      fill: #1967D2;\n",
              "      height: 32px;\n",
              "      padding: 0 0 0 0;\n",
              "      width: 32px;\n",
              "    }\n",
              "\n",
              "    .colab-df-convert:hover {\n",
              "      background-color: #E2EBFA;\n",
              "      box-shadow: 0px 1px 2px rgba(60, 64, 67, 0.3), 0px 1px 3px 1px rgba(60, 64, 67, 0.15);\n",
              "      fill: #174EA6;\n",
              "    }\n",
              "\n",
              "    .colab-df-buttons div {\n",
              "      margin-bottom: 4px;\n",
              "    }\n",
              "\n",
              "    [theme=dark] .colab-df-convert {\n",
              "      background-color: #3B4455;\n",
              "      fill: #D2E3FC;\n",
              "    }\n",
              "\n",
              "    [theme=dark] .colab-df-convert:hover {\n",
              "      background-color: #434B5C;\n",
              "      box-shadow: 0px 1px 3px 1px rgba(0, 0, 0, 0.15);\n",
              "      filter: drop-shadow(0px 1px 2px rgba(0, 0, 0, 0.3));\n",
              "      fill: #FFFFFF;\n",
              "    }\n",
              "  </style>\n",
              "\n",
              "    <script>\n",
              "      const buttonEl =\n",
              "        document.querySelector('#df-db09b45f-5a57-4d0e-8499-dab4b59794b9 button.colab-df-convert');\n",
              "      buttonEl.style.display =\n",
              "        google.colab.kernel.accessAllowed ? 'block' : 'none';\n",
              "\n",
              "      async function convertToInteractive(key) {\n",
              "        const element = document.querySelector('#df-db09b45f-5a57-4d0e-8499-dab4b59794b9');\n",
              "        const dataTable =\n",
              "          await google.colab.kernel.invokeFunction('convertToInteractive',\n",
              "                                                    [key], {});\n",
              "        if (!dataTable) return;\n",
              "\n",
              "        const docLinkHtml = 'Like what you see? Visit the ' +\n",
              "          '<a target=\"_blank\" href=https://colab.research.google.com/notebooks/data_table.ipynb>data table notebook</a>'\n",
              "          + ' to learn more about interactive tables.';\n",
              "        element.innerHTML = '';\n",
              "        dataTable['output_type'] = 'display_data';\n",
              "        await google.colab.output.renderOutput(dataTable, element);\n",
              "        const docLink = document.createElement('div');\n",
              "        docLink.innerHTML = docLinkHtml;\n",
              "        element.appendChild(docLink);\n",
              "      }\n",
              "    </script>\n",
              "  </div>\n",
              "\n",
              "\n",
              "<div id=\"df-09423392-e853-4d06-bdac-665f29acc33e\">\n",
              "  <button class=\"colab-df-quickchart\" onclick=\"quickchart('df-09423392-e853-4d06-bdac-665f29acc33e')\"\n",
              "            title=\"Suggest charts.\"\n",
              "            style=\"display:none;\">\n",
              "\n",
              "<svg xmlns=\"http://www.w3.org/2000/svg\" height=\"24px\"viewBox=\"0 0 24 24\"\n",
              "     width=\"24px\">\n",
              "    <g>\n",
              "        <path d=\"M19 3H5c-1.1 0-2 .9-2 2v14c0 1.1.9 2 2 2h14c1.1 0 2-.9 2-2V5c0-1.1-.9-2-2-2zM9 17H7v-7h2v7zm4 0h-2V7h2v10zm4 0h-2v-4h2v4z\"/>\n",
              "    </g>\n",
              "</svg>\n",
              "  </button>\n",
              "\n",
              "<style>\n",
              "  .colab-df-quickchart {\n",
              "      --bg-color: #E8F0FE;\n",
              "      --fill-color: #1967D2;\n",
              "      --hover-bg-color: #E2EBFA;\n",
              "      --hover-fill-color: #174EA6;\n",
              "      --disabled-fill-color: #AAA;\n",
              "      --disabled-bg-color: #DDD;\n",
              "  }\n",
              "\n",
              "  [theme=dark] .colab-df-quickchart {\n",
              "      --bg-color: #3B4455;\n",
              "      --fill-color: #D2E3FC;\n",
              "      --hover-bg-color: #434B5C;\n",
              "      --hover-fill-color: #FFFFFF;\n",
              "      --disabled-bg-color: #3B4455;\n",
              "      --disabled-fill-color: #666;\n",
              "  }\n",
              "\n",
              "  .colab-df-quickchart {\n",
              "    background-color: var(--bg-color);\n",
              "    border: none;\n",
              "    border-radius: 50%;\n",
              "    cursor: pointer;\n",
              "    display: none;\n",
              "    fill: var(--fill-color);\n",
              "    height: 32px;\n",
              "    padding: 0;\n",
              "    width: 32px;\n",
              "  }\n",
              "\n",
              "  .colab-df-quickchart:hover {\n",
              "    background-color: var(--hover-bg-color);\n",
              "    box-shadow: 0 1px 2px rgba(60, 64, 67, 0.3), 0 1px 3px 1px rgba(60, 64, 67, 0.15);\n",
              "    fill: var(--button-hover-fill-color);\n",
              "  }\n",
              "\n",
              "  .colab-df-quickchart-complete:disabled,\n",
              "  .colab-df-quickchart-complete:disabled:hover {\n",
              "    background-color: var(--disabled-bg-color);\n",
              "    fill: var(--disabled-fill-color);\n",
              "    box-shadow: none;\n",
              "  }\n",
              "\n",
              "  .colab-df-spinner {\n",
              "    border: 2px solid var(--fill-color);\n",
              "    border-color: transparent;\n",
              "    border-bottom-color: var(--fill-color);\n",
              "    animation:\n",
              "      spin 1s steps(1) infinite;\n",
              "  }\n",
              "\n",
              "  @keyframes spin {\n",
              "    0% {\n",
              "      border-color: transparent;\n",
              "      border-bottom-color: var(--fill-color);\n",
              "      border-left-color: var(--fill-color);\n",
              "    }\n",
              "    20% {\n",
              "      border-color: transparent;\n",
              "      border-left-color: var(--fill-color);\n",
              "      border-top-color: var(--fill-color);\n",
              "    }\n",
              "    30% {\n",
              "      border-color: transparent;\n",
              "      border-left-color: var(--fill-color);\n",
              "      border-top-color: var(--fill-color);\n",
              "      border-right-color: var(--fill-color);\n",
              "    }\n",
              "    40% {\n",
              "      border-color: transparent;\n",
              "      border-right-color: var(--fill-color);\n",
              "      border-top-color: var(--fill-color);\n",
              "    }\n",
              "    60% {\n",
              "      border-color: transparent;\n",
              "      border-right-color: var(--fill-color);\n",
              "    }\n",
              "    80% {\n",
              "      border-color: transparent;\n",
              "      border-right-color: var(--fill-color);\n",
              "      border-bottom-color: var(--fill-color);\n",
              "    }\n",
              "    90% {\n",
              "      border-color: transparent;\n",
              "      border-bottom-color: var(--fill-color);\n",
              "    }\n",
              "  }\n",
              "</style>\n",
              "\n",
              "  <script>\n",
              "    async function quickchart(key) {\n",
              "      const quickchartButtonEl =\n",
              "        document.querySelector('#' + key + ' button');\n",
              "      quickchartButtonEl.disabled = true;  // To prevent multiple clicks.\n",
              "      quickchartButtonEl.classList.add('colab-df-spinner');\n",
              "      try {\n",
              "        const charts = await google.colab.kernel.invokeFunction(\n",
              "            'suggestCharts', [key], {});\n",
              "      } catch (error) {\n",
              "        console.error('Error during call to suggestCharts:', error);\n",
              "      }\n",
              "      quickchartButtonEl.classList.remove('colab-df-spinner');\n",
              "      quickchartButtonEl.classList.add('colab-df-quickchart-complete');\n",
              "    }\n",
              "    (() => {\n",
              "      let quickchartButtonEl =\n",
              "        document.querySelector('#df-09423392-e853-4d06-bdac-665f29acc33e button');\n",
              "      quickchartButtonEl.style.display =\n",
              "        google.colab.kernel.accessAllowed ? 'block' : 'none';\n",
              "    })();\n",
              "  </script>\n",
              "</div>\n",
              "    </div>\n",
              "  </div>\n"
            ]
          },
          "metadata": {},
          "execution_count": 22
        }
      ]
    },
    {
      "cell_type": "code",
      "source": [
        "col_mat = df_p['NU_NOTA_MT']\n",
        "col_red = df_p['NU_NOTA_REDACAO']\n",
        "col_idh = df_p['IDH']"
      ],
      "metadata": {
        "id": "rU6UJ5SEuvfx"
      },
      "execution_count": 28,
      "outputs": []
    },
    {
      "cell_type": "markdown",
      "source": [
        "**Coeficiente de correlação de Pearson**\n",
        "\n",
        "Na correlação dePearson, a métrica da linearidade entre variáveis é exposta em um número que vai de -1 a +1. Quanto mais próximo dos extremos (-1 ou 1), maior é a força da correlação. Valores próximos de zero querem dizer a correlação é fraca."
      ],
      "metadata": {
        "id": "QpdA4ieZwDIz"
      }
    },
    {
      "cell_type": "code",
      "source": [
        "### Correlação notas de Matemática com as notas de Redação\n",
        "corr, _ = pearsonr(col_mat, col_red)\n",
        "print('Pearsons correlation: %.3f' % corr)"
      ],
      "metadata": {
        "colab": {
          "base_uri": "https://localhost:8080/"
        },
        "id": "uFutVI_evIaT",
        "outputId": "fe15f0a8-cdcb-48da-9122-71a741c27722"
      },
      "execution_count": 29,
      "outputs": [
        {
          "output_type": "stream",
          "name": "stdout",
          "text": [
            "Pearsons correlation: 0.482\n"
          ]
        }
      ]
    },
    {
      "cell_type": "code",
      "source": [
        "### Correlação notas de Matemática com o valor do IDH do Município de residência do aluno\n",
        "corr, _ = pearsonr(col_mat, col_idh)\n",
        "print('Pearsons correlation: %.3f' % corr)"
      ],
      "metadata": {
        "colab": {
          "base_uri": "https://localhost:8080/"
        },
        "id": "PwzLQ1RTvYR6",
        "outputId": "f7d0ecf6-4e13-4c62-fbe5-d5c87699fece"
      },
      "execution_count": 30,
      "outputs": [
        {
          "output_type": "stream",
          "name": "stdout",
          "text": [
            "Pearsons correlation: 0.197\n"
          ]
        }
      ]
    },
    {
      "cell_type": "code",
      "source": [
        "### Correlação notas de Redação com o valor do IDH do Município de residência do aluno\n",
        "corr, _ = pearsonr(col_red, col_idh)\n",
        "print('Pearsons correlation: %.3f' % corr)"
      ],
      "metadata": {
        "colab": {
          "base_uri": "https://localhost:8080/"
        },
        "id": "NZQ2UrfKvh4l",
        "outputId": "d71c121b-d7a3-4869-f6be-e98b80fd4254"
      },
      "execution_count": 31,
      "outputs": [
        {
          "output_type": "stream",
          "name": "stdout",
          "text": [
            "Pearsons correlation: 0.101\n"
          ]
        }
      ]
    },
    {
      "cell_type": "markdown",
      "source": [
        "**Teste de aderência à Normalidade**\n",
        "\n",
        "A distribuição normal também pode ser chamada de gaussiana e sua forma assemelha-se a de um sino."
      ],
      "metadata": {
        "id": "EjRUltJFyvrX"
      }
    },
    {
      "cell_type": "code",
      "source": [
        "### Gráfico de distribuição dos dados das notas de Matemática\n",
        "## Visualmente os dados se aproximam da normalidade\n",
        "plt.figure(figsize=(10,7), dpi= 80)\n",
        "sns.distplot(df_p['NU_NOTA_MT'], color=\"dodgerblue\", label=\"Compact\",)\n",
        "plt.show()"
      ],
      "metadata": {
        "colab": {
          "base_uri": "https://localhost:8080/",
          "height": 688
        },
        "id": "SRpt7uk7xyeY",
        "outputId": "3cbd4691-a09c-4914-bd44-c79fb980ca68"
      },
      "execution_count": 33,
      "outputs": [
        {
          "output_type": "stream",
          "name": "stderr",
          "text": [
            "<ipython-input-33-da065f2cd0c7>:2: UserWarning: \n",
            "\n",
            "`distplot` is a deprecated function and will be removed in seaborn v0.14.0.\n",
            "\n",
            "Please adapt your code to use either `displot` (a figure-level function with\n",
            "similar flexibility) or `histplot` (an axes-level function for histograms).\n",
            "\n",
            "For a guide to updating your code to use the new functions, please see\n",
            "https://gist.github.com/mwaskom/de44147ed2974457ad6372750bbe5751\n",
            "\n",
            "  sns.distplot(df_p['NU_NOTA_MT'], color=\"dodgerblue\", label=\"Compact\",)\n"
          ]
        },
        {
          "output_type": "display_data",
          "data": {
            "text/plain": [
              "<Figure size 800x560 with 1 Axes>"
            ],
            "image/png": "[encoded data removed]"
          },
          "metadata": {}
        }
      ]
    },
    {
      "cell_type": "code",
      "source": [
        "### Gráfico de distribuição dos dados das notas de Redação\n",
        "## Visualmente os dados não se aproximam da normalidade\n",
        "plt.figure(figsize=(10,7), dpi= 80)\n",
        "sns.distplot(df_p['NU_NOTA_REDACAO'], color=\"dodgerblue\", label=\"Compact\",)\n",
        "plt.show()"
      ],
      "metadata": {
        "colab": {
          "base_uri": "https://localhost:8080/",
          "height": 688
        },
        "id": "K04ZHfFMzU08",
        "outputId": "7411fccd-5a44-4090-dbf2-660d5a7ad302"
      },
      "execution_count": 35,
      "outputs": [
        {
          "output_type": "stream",
          "name": "stderr",
          "text": [
            "<ipython-input-35-633c4c3b940d>:2: UserWarning: \n",
            "\n",
            "`distplot` is a deprecated function and will be removed in seaborn v0.14.0.\n",
            "\n",
            "Please adapt your code to use either `displot` (a figure-level function with\n",
            "similar flexibility) or `histplot` (an axes-level function for histograms).\n",
            "\n",
            "For a guide to updating your code to use the new functions, please see\n",
            "https://gist.github.com/mwaskom/de44147ed2974457ad6372750bbe5751\n",
            "\n",
            "  sns.distplot(df_p['NU_NOTA_REDACAO'], color=\"dodgerblue\", label=\"Compact\",)\n"
          ]
        },
        {
          "output_type": "display_data",
          "data": {
            "text/plain": [
              "<Figure size 800x560 with 1 Axes>"
            ],
            "image/png": "[encoded data removed]"
          },
          "metadata": {}
        }
      ]
    },
    {
      "cell_type": "code",
      "source": [
        "### Gráfico de distribuição dos dados de IDH dos Municípios\n",
        "## Visualmente os dados não se aproximam da normalidade\n",
        "plt.figure(figsize=(10,7), dpi= 80)\n",
        "sns.distplot(df_p['IDH'], color=\"dodgerblue\", label=\"Compact\",)\n",
        "plt.show()"
      ],
      "metadata": {
        "colab": {
          "base_uri": "https://localhost:8080/",
          "height": 687
        },
        "id": "0osGFSzNzvzQ",
        "outputId": "2e1b199e-593a-419b-c4c2-00846498cd13"
      },
      "execution_count": 36,
      "outputs": [
        {
          "output_type": "stream",
          "name": "stderr",
          "text": [
            "<ipython-input-36-dea019a854be>:3: UserWarning: \n",
            "\n",
            "`distplot` is a deprecated function and will be removed in seaborn v0.14.0.\n",
            "\n",
            "Please adapt your code to use either `displot` (a figure-level function with\n",
            "similar flexibility) or `histplot` (an axes-level function for histograms).\n",
            "\n",
            "For a guide to updating your code to use the new functions, please see\n",
            "https://gist.github.com/mwaskom/de44147ed2974457ad6372750bbe5751\n",
            "\n",
            "  sns.distplot(df_p['IDH'], color=\"dodgerblue\", label=\"Compact\",)\n"
          ]
        },
        {
          "output_type": "display_data",
          "data": {
            "text/plain": [
              "<Figure size 800x560 with 1 Axes>"
            ],
            "image/png": "[encoded data removed]"
          },
          "metadata": {}
        }
      ]
    },
    {
      "cell_type": "markdown",
      "source": [
        "**Teste de Shapiro-Wilk**\n",
        "\n",
        "O Teste de Shapiro-Wilk tem como objetivo avaliar se uma distribuição é semelhante a uma distribuição normal.\n",
        "\n",
        "CRITÉRIOS:\n",
        "\n",
        "NÍVEL DE SIGNIFICÂNCIA DE 0,05 ou 5% (MAIS UTILIZADO)\n",
        "\n",
        "Ho = distribuição normal p > 0,05\n",
        "\n",
        "Ha = distribuição não normal p <= 0,05"
      ],
      "metadata": {
        "id": "MPQd8biU1TnO"
      }
    },
    {
      "cell_type": "code",
      "source": [
        "### Notas de Matemática\n",
        "e, p = stats.shapiro(df_p['NU_NOTA_MT'])\n",
        "print('Estatística de teste: {}'.format(e))\n",
        "print('p-valor: {}'.format(p))"
      ],
      "metadata": {
        "colab": {
          "base_uri": "https://localhost:8080/"
        },
        "id": "KeAwKz2U1SPL",
        "outputId": "b9abd96c-3c05-4017-b3be-17ce455daa81"
      },
      "execution_count": 42,
      "outputs": [
        {
          "output_type": "stream",
          "name": "stdout",
          "text": [
            "Estatística de teste: 0.9647639393806458\n",
            "p-valor: 0.0\n"
          ]
        }
      ]
    },
    {
      "cell_type": "code",
      "source": [
        "### Notas de Redação\n",
        "e, p = stats.shapiro(df_p['NU_NOTA_REDACAO'])\n",
        "print('Estatística de teste: {}'.format(e))\n",
        "print('p-valor: {}'.format(p))"
      ],
      "metadata": {
        "colab": {
          "base_uri": "https://localhost:8080/"
        },
        "id": "58NMEH8P16-d",
        "outputId": "c232df26-3eeb-4416-d739-3a1a51b18882"
      },
      "execution_count": 43,
      "outputs": [
        {
          "output_type": "stream",
          "name": "stdout",
          "text": [
            "Estatística de teste: 0.9291774034500122\n",
            "p-valor: 0.0\n"
          ]
        }
      ]
    },
    {
      "cell_type": "code",
      "source": [
        "### IDH dos Municípios\n",
        "e, p = stats.shapiro(df_p['IDH'])\n",
        "print('Estatística de teste: {}'.format(e))\n",
        "print('p-valor: {}'.format(p))"
      ],
      "metadata": {
        "colab": {
          "base_uri": "https://localhost:8080/"
        },
        "id": "cC6GKrba17lU",
        "outputId": "160d83aa-743b-4f38-bddf-064e9cfedc6f"
      },
      "execution_count": 44,
      "outputs": [
        {
          "output_type": "stream",
          "name": "stdout",
          "text": [
            "Estatística de teste: 0.9560688138008118\n",
            "p-valor: 0.0\n"
          ]
        }
      ]
    }
  ]
}